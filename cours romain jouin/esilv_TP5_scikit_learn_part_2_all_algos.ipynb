{
 "cells": [
  {
   "cell_type": "markdown",
   "metadata": {},
   "source": [
    "# Scikit Learn"
   ]
  },
  {
   "cell_type": "markdown",
   "metadata": {},
   "source": [
    "# Régression sur le prix des maisons à boston"
   ]
  },
  {
   "cell_type": "markdown",
   "metadata": {},
   "source": [
    "## 1) Import de dataset"
   ]
  },
  {
   "cell_type": "code",
   "execution_count": 1,
   "metadata": {},
   "outputs": [],
   "source": [
    "from sklearn import datasets"
   ]
  },
  {
   "cell_type": "code",
   "execution_count": 2,
   "metadata": {},
   "outputs": [],
   "source": [
    "digits = datasets.load_digits()\n",
    "X = digits.data\n",
    "y = digits.target\n",
    "\n",
    "boston = datasets.load_boston()\n",
    "X = boston[\"data\"]\n",
    "y = boston[\"target\"]\n",
    "\n"
   ]
  },
  {
   "cell_type": "markdown",
   "metadata": {},
   "source": [
    "## 2) separer le jeu d'apprentissage du jeu de test"
   ]
  },
  {
   "cell_type": "code",
   "execution_count": 3,
   "metadata": {},
   "outputs": [],
   "source": [
    "from sklearn.model_selection import train_test_split"
   ]
  },
  {
   "cell_type": "code",
   "execution_count": 6,
   "metadata": {},
   "outputs": [],
   "source": [
    "X_train, X_test, y_train, y_test = train_test_split(X, y, test_size=0.33)"
   ]
  },
  {
   "cell_type": "markdown",
   "metadata": {},
   "source": [
    "## 3) Standardiser les valeurs"
   ]
  },
  {
   "cell_type": "code",
   "execution_count": 7,
   "metadata": {},
   "outputs": [],
   "source": [
    "from sklearn.preprocessing import StandardScaler\n",
    "scaler = StandardScaler()\n",
    "scaler.fit(X_train)                 # Il ne faut fiter que sur les data d'entrainement\n",
    "X_train = scaler.transform(X_train)\n",
    "X_test  = scaler.transform(X_test)  # apply same transformation to test data"
   ]
  },
  {
   "cell_type": "markdown",
   "metadata": {},
   "source": [
    "## 4) choisir un algo et le tester\n",
    "exemple : Support Vector Machine"
   ]
  },
  {
   "cell_type": "code",
   "execution_count": 10,
   "metadata": {},
   "outputs": [
    {
     "data": {
      "text/plain": [
       "array([0.77285459, 0.72771739, 0.56131914, 0.15056451, 0.08212844])"
      ]
     },
     "execution_count": 10,
     "metadata": {},
     "output_type": "execute_result"
    }
   ],
   "source": [
    "from sklearn import svm\n",
    "svr = svm.SVR(kernel='linear')\n",
    "\n",
    "from sklearn.model_selection import  cross_val_score\n",
    "cross_val_score(svr, X, y, n_jobs=-1)"
   ]
  },
  {
   "cell_type": "markdown",
   "metadata": {},
   "source": [
    "## 5) aller au delà des paramètres par défaut avec un grid search"
   ]
  },
  {
   "cell_type": "code",
   "execution_count": 14,
   "metadata": {},
   "outputs": [
    {
     "name": "stdout",
     "output_type": "stream",
     "text": [
      "0.6173146856833553 SVR(gamma=0.1)\n"
     ]
    }
   ],
   "source": [
    "from sklearn.model_selection import GridSearchCV\n",
    "parameters = {  'gamma' : [0.01, 0.1, 0.5]           }\n",
    "grid       = GridSearchCV(svm.SVR(), parameters, n_jobs=-1)\n",
    "grid.fit(X_train, y_train)\n",
    "print (grid.best_score_, grid.best_estimator_)"
   ]
  },
  {
   "cell_type": "markdown",
   "metadata": {},
   "source": [
    "## 5.1) affiner le grid search"
   ]
  },
  {
   "cell_type": "code",
   "execution_count": 17,
   "metadata": {},
   "outputs": [
    {
     "name": "stdout",
     "output_type": "stream",
     "text": [
      "0.6725273811239963 SVR(C=1.5, gamma=0.1)\n"
     ]
    }
   ],
   "source": [
    "parameters = {  'C'      : [0.5, 1, 1.5]             ,\n",
    "                'gamma'  : [0.5, 0.1, 0.15]      }\n",
    "grid = GridSearchCV(svm.SVR(), parameters, n_jobs=-1)\n",
    "grid.fit(X_train, y_train)\n",
    "print (grid.best_score_, grid.best_estimator_)"
   ]
  },
  {
   "cell_type": "code",
   "execution_count": 18,
   "metadata": {},
   "outputs": [
    {
     "name": "stdout",
     "output_type": "stream",
     "text": [
      "0.7589863387457337 SVR(C=2.5, gamma=0.05)\n"
     ]
    }
   ],
   "source": [
    "parameters = {  'C'      : [1.5, 2, 2.5]   ,\n",
    "                'kernel' : ['rbf', 'poly', 'sigmoid'],\n",
    "                'gamma'  : [ 0.05, 0.10, 0.15] }\n",
    "grid = GridSearchCV(svm.SVR(), parameters, n_jobs=-1)\n",
    "grid.fit(X_train, y_train)\n",
    "print (grid.best_score_, grid.best_estimator_)\n"
   ]
  },
  {
   "cell_type": "code",
   "execution_count": 19,
   "metadata": {},
   "outputs": [
    {
     "name": "stdout",
     "output_type": "stream",
     "text": [
      "0.7860451947718669 SVR(C=4, degree=1, gamma=0.05)\n"
     ]
    }
   ],
   "source": [
    "parameters = {  'C'       : [2.5, 3, 4]   ,\n",
    "                'kernel'  : ['rbf', 'poly', 'sigmoid'],\n",
    "                'gamma'   : [ 0.01, 0.05, 0.07],\n",
    "                 \"degree\" : [1,3,5]}\n",
    "grid = GridSearchCV(svm.SVR(), parameters, n_jobs=-1)\n",
    "grid.fit(X_train, y_train)\n",
    "print (grid.best_score_, grid.best_estimator_)\n"
   ]
  },
  {
   "cell_type": "code",
   "execution_count": 20,
   "metadata": {},
   "outputs": [
    {
     "name": "stdout",
     "output_type": "stream",
     "text": [
      "0.805344266224077 SVR(C=7, degree=1, gamma=0.03)\n"
     ]
    }
   ],
   "source": [
    "parameters = {  'C'       : [4, 5, 6, 7]   ,\n",
    "                'kernel'  : ['rbf'],\n",
    "                'gamma'   : [ 0.03, 0.05, 0.07],\n",
    "                 \"degree\" : [1,2, 3]}\n",
    "grid = GridSearchCV(svm.SVR(), parameters, n_jobs=-1)\n",
    "grid.fit(X_train, y_train)\n",
    "print (grid.best_score_, grid.best_estimator_)\n"
   ]
  },
  {
   "cell_type": "code",
   "execution_count": 21,
   "metadata": {},
   "outputs": [
    {
     "name": "stdout",
     "output_type": "stream",
     "text": [
      "0.8309789798361102 SVR(C=30, degree=1, epsilon=0.15, gamma=0.03)\n"
     ]
    }
   ],
   "source": [
    "parameters = {  'C'       : [10, 15, 20, 30]   ,\n",
    "                'kernel'  : ['rbf'],\n",
    "                'gamma'   : [ 0.03],\n",
    "                  \"epsilon\" : [0.01, 0.05, 0.15],\n",
    "                 \"degree\" : [1,2]}\n",
    "grid = GridSearchCV(svm.SVR(), parameters, n_jobs=-1)\n",
    "grid.fit(X_train, y_train)\n",
    "print (grid.best_score_, grid.best_estimator_)\n"
   ]
  },
  {
   "cell_type": "code",
   "execution_count": 22,
   "metadata": {},
   "outputs": [
    {
     "name": "stdout",
     "output_type": "stream",
     "text": [
      "0.8529818558944167 SVR(C=190, degree=1, epsilon=1.5, gamma=0.03)\n"
     ]
    }
   ],
   "source": [
    "parameters = {  'C'       : [190, 200, 250, 260]   ,\n",
    "                'kernel'  : ['rbf'],\n",
    "                'gamma'   : [ 0.03],\n",
    "                  \"epsilon\" : [1.5, 2, 2.5],\n",
    "                 \"degree\" : [1,2]}\n",
    "grid = GridSearchCV(svm.SVR(), parameters, n_jobs=-1)\n",
    "grid.fit(X_train, y_train)\n",
    "print (grid.best_score_, grid.best_estimator_)\n"
   ]
  },
  {
   "cell_type": "code",
   "execution_count": 23,
   "metadata": {},
   "outputs": [],
   "source": [
    "# Exercice => tester vos propres paramètres"
   ]
  },
  {
   "cell_type": "markdown",
   "metadata": {},
   "source": [
    "# On aurait pu faire une fonction de test : "
   ]
  },
  {
   "cell_type": "code",
   "execution_count": 25,
   "metadata": {},
   "outputs": [],
   "source": [
    "def test_hyperparametres(hyperparametres):\n",
    "    grid       = GridSearchCV(svm.SVR(), hyperparametres, n_jobs=-1)\n",
    "    grid.fit(X_train, y_train)\n",
    "    print (grid.best_score_, grid.best_estimator_)    \n",
    "    return grid.best_score_, grid.best_estimator_\n",
    "    "
   ]
  },
  {
   "cell_type": "code",
   "execution_count": 26,
   "metadata": {},
   "outputs": [
    {
     "name": "stdout",
     "output_type": "stream",
     "text": [
      "0.8449421228300483 SVR(C=200, gamma=0.015)\n"
     ]
    },
    {
     "data": {
      "text/plain": [
       "(0.8449421228300483, SVR(C=200, gamma=0.015))"
      ]
     },
     "execution_count": 26,
     "metadata": {},
     "output_type": "execute_result"
    }
   ],
   "source": [
    "hyperparametres = {  'gamma' : [0.01, 0.1, 0.5, 0.015]          ,\n",
    "                  \"kernel\" : ['linear', 'poly', 'rbf', 'sigmoid',  ],\n",
    "                  \"C\" : [105, 200]}\n",
    "test_hyperparametres(hyperparametres)"
   ]
  },
  {
   "cell_type": "code",
   "execution_count": 27,
   "metadata": {},
   "outputs": [],
   "source": [
    "from sklearn.linear_model import Lasso"
   ]
  },
  {
   "cell_type": "code",
   "execution_count": 28,
   "metadata": {},
   "outputs": [],
   "source": [
    "def test_hyperparametres(algo, hyperparametres):\n",
    "    grid       = grid_search.GridSearchCV(algo, hyperparametres, n_jobs=-1)\n",
    "    grid.fit(X_train, y_train)\n",
    "    print (grid.best_score_, grid.best_estimator_)    \n",
    "    return grid.best_score_, grid.best_estimator_\n"
   ]
  },
  {
   "cell_type": "code",
   "execution_count": 30,
   "metadata": {
    "scrolled": true
   },
   "outputs": [
    {
     "name": "stdout",
     "output_type": "stream",
     "text": [
      "0.7441994477257756 Lasso(alpha=0.1)\n"
     ]
    }
   ],
   "source": [
    "algo = Lasso()\n",
    "params = {\"max_iter\" : [ 1000],\n",
    "         \"alpha\" : [0.1], \n",
    "         \"selection\": [\"random\", \"cyclic\"]}\n",
    "grid       = GridSearchCV(algo, params, n_jobs=-1)\n",
    "grid.fit(X_train, y_train)\n",
    "print (grid.best_score_, grid.best_estimator_)    \n"
   ]
  },
  {
   "cell_type": "markdown",
   "metadata": {},
   "source": [
    "# Import de xgboost"
   ]
  },
  {
   "cell_type": "code",
   "execution_count": 31,
   "metadata": {},
   "outputs": [
    {
     "name": "stdout",
     "output_type": "stream",
     "text": [
      "Collecting xgboost\n",
      "  Downloading xgboost-1.2.1-py3-none-macosx_10_13_x86_64.macosx_10_14_x86_64.macosx_10_15_x86_64.whl (1.2 MB)\n",
      "\u001b[K     |████████████████████████████████| 1.2 MB 2.1 MB/s eta 0:00:01\n",
      "\u001b[?25hRequirement already satisfied: numpy in /Applications/anaconda3/envs/python38/lib/python3.8/site-packages (from xgboost) (1.19.0)\n",
      "Requirement already satisfied: scipy in /Applications/anaconda3/envs/python38/lib/python3.8/site-packages (from xgboost) (1.4.1)\n",
      "Installing collected packages: xgboost\n",
      "Successfully installed xgboost-1.2.1\n"
     ]
    }
   ],
   "source": [
    "!pip install xgboost"
   ]
  },
  {
   "cell_type": "code",
   "execution_count": 34,
   "metadata": {},
   "outputs": [
    {
     "name": "stdout",
     "output_type": "stream",
     "text": [
      "Updating Homebrew...\n",
      "\u001b[34m==>\u001b[0m \u001b[1mAuto-updated Homebrew!\u001b[0m\n",
      "Updated 3 taps (homebrew/core, homebrew/cask and homebrew/services).\n",
      "\u001b[34m==>\u001b[0m \u001b[1mNew Formulae\u001b[0m\n",
      "arturo              foreman             libpciaccess        pickle\n",
      "bit-git             fpart               libslirp            postgresql@12\n",
      "blaze               gcalcli             matplotplusplus     protoc-gen-go-grpc\n",
      "box2d               gitlint             ncspot              rain\n",
      "cvs-fast-export     googletest          nicotine-plus       taskwarrior-tui\n",
      "device-mapper       gost                node@14             tfsec\n",
      "dotnet              isort               openjdk@8           vint\n",
      "envoy               libdrm              or-tools            zsh-you-should-use\n",
      "fnm                 libfuse             pdm\n",
      "\u001b[34m==>\u001b[0m \u001b[1mUpdated Formulae\u001b[0m\n",
      "Updated 998 formulae.\n",
      "\u001b[34m==>\u001b[0m \u001b[1mDeleted Formulae\u001b[0m\n",
      "boost@1.55                 meson-internal             woboq_codebrowser\n",
      "boost@1.59                 mysql-connector-c++@1.1\n",
      "llvm@6                     scw@1\n",
      "\u001b[34m==>\u001b[0m \u001b[1mNew Casks\u001b[0m\n",
      "aio-creator-neo            imarisviewer               perimeter81\n",
      "amazon-workdocs-drive      lx-music                   recaf\n",
      "binance                    mechvibes                  ripme\n",
      "ddnet                      messenger                  s3stat-setup\n",
      "deltachat                  modern-csv                 solar2d\n",
      "displays                   mongodb-realm-studio       syncsettings\n",
      "eul                        niftyman                   time-to-leave\n",
      "exifcleaner                obs-ndi                    tunein\n",
      "gactions                   opera-gx                   xattred\n",
      "happymac                   padloc                     yuque\n",
      "\u001b[34m==>\u001b[0m \u001b[1mUpdated Casks\u001b[0m\n",
      "1password-cli                            minitube\n",
      "4k-stogram                               minizincide\n",
      "4k-video-downloader                      missive\n",
      "4k-youtube-to-mp3                        mochi\n",
      "5kplayer                                 monero-wallet\n",
      "a-better-finder-attributes               moneymoney\n",
      "a-better-finder-rename                   mono-mdk\n",
      "activedock                               movist-pro\n",
      "adguard                                  mplabx-ide\n",
      "adobe-creative-cloud                     mqttx\n",
      "adobe-dng-converter                      mtgaprotracker\n",
      "aerial                                   mullvadvpn\n",
      "agenda                                   multi\n",
      "aircall                                  multipass\n",
      "airflow                                  multitouch\n",
      "airfoil                                  mumu\n",
      "airtame                                  musescore\n",
      "airy                                     musicbrainz-picard\n",
      "ajour                                    musictube\n",
      "alfaview                                 mweb\n",
      "alfred                                   mymonero\n",
      "alt-tab                                  mysql-shell\n",
      "altserver                                mysqlworkbench\n",
      "amazon-chime                             native-access\n",
      "amazon-music                             naver-whale\n",
      "amethyst                                 navicat-data-modeler\n",
      "android-studio                           navicat-data-modeler-essentials\n",
      "angry-ip-scanner                         navicat-for-mariadb\n",
      "anonym                                   navicat-for-mysql\n",
      "anydo                                    navicat-for-oracle\n",
      "appcleaner                               navicat-for-postgresql\n",
      "appgate-sdp-client                       navicat-for-sql-server\n",
      "appium                                   navicat-for-sqlite\n",
      "aptible                                  navicat-premium\n",
      "artisan                                  navicat-premium-essentials\n",
      "atom                                     nbtexplorer\n",
      "audio-hijack                             neo4j\n",
      "audiobook-builder                        netiquette\n",
      "audirvana                                netnewswire\n",
      "avocode                                  netron\n",
      "azure-data-studio                        netxms-console\n",
      "backblaze                                nextcloud\n",
      "baidunetdisk                             nordvpn\n",
      "banktivity                               nova\n",
      "bbedit                                   noxappplayer\n",
      "beekeeper-studio                         nteract\n",
      "bettertouchtool                          nuclear\n",
      "big-mean-folder-machine                  numi\n",
      "bilimini                                 nvidia-geforce-now\n",
      "birdfont                                 obs-virtualcam\n",
      "biscuit                                  obsidian\n",
      "bisq                                     ocenaudio\n",
      "blitz                                    odrive\n",
      "blizz                                    omnidb\n",
      "blockblock                               omniplan\n",
      "blocs                                    onedrive\n",
      "blueharvest                              onlyoffice\n",
      "bluejeans                                onyx\n",
      "bob                                      openaudible\n",
      "bookmacster                              opencpn\n",
      "boom                                     openphone\n",
      "boom-3d                                  opensesame\n",
      "boost-note                               openvpn-connect\n",
      "bootstrap-studio                         openwebstart\n",
      "boxcryptor                               opera\n",
      "brave-browser                            oracle-jdk\n",
      "browserosaurus                           oracle-jdk-javadoc\n",
      "btcpayserver-vault                       orange\n",
      "butt                                     origami-studio\n",
      "c0re100-qbittorrent                      origin\n",
      "cacher                                   oscar\n",
      "calibre                                  osquery\n",
      "camo-studio                              outline-manager\n",
      "camtasia                                 overdrive-media-console\n",
      "camunda-modeler                          p4v\n",
      "caprine                                  paperspace\n",
      "carbon-copy-cloner                       parallels\n",
      "cardhop                                  parallels-toolbox\n",
      "catlight                                 parallels-virtualization-sdk\n",
      "cctalk                                   paw\n",
      "cellprofiler                             pd-l2ork\n",
      "chatty                                   pdf-expert\n",
      "chef-workstation                         pdfsam-basic\n",
      "chiaki                                   permute\n",
      "chirp                                    pflists\n",
      "chrome-remote-desktop-host               pgadmin4\n",
      "chromium                                 phocus\n",
      "clamxav                                  phpstorm\n",
      "clash-for-windows                        piezo\n",
      "cleanmymac                               pixelsnap\n",
      "cleanshot                                plex\n",
      "clip-studio-paint                        plex-media-server\n",
      "clipgrab                                 plexamp\n",
      "clockify                                 plotdigitizer\n",
      "coda                                     pocket-casts\n",
      "codeexpander                             polar-bookshelf\n",
      "codekit                                  popclip\n",
      "commander-one                            popo\n",
      "cookie                                   portfolioperformance\n",
      "copyq                                    porting-kit\n",
      "corretto                                 postbox\n",
      "coteditor                                posterazor\n",
      "crossover                                power-manager\n",
      "customshortcuts                          pppc-utility\n",
      "cycling74-max                            praat\n",
      "cytoscape                                preform\n",
      "daedalus-mainnet                         presentation\n",
      "dangerzone                               proclaim\n",
      "dash                                     profind\n",
      "dashcam-viewer                           propresenter\n",
      "dashlane                                 protonmail-bridge\n",
      "data-science-studio                      protonvpn\n",
      "datadog-agent                            protopie\n",
      "datovka                                  proxyman\n",
      "dbeaver-community                        psychopy\n",
      "dbeaver-enterprise                       publii\n",
      "dcp-o-matic                              pulse-sms\n",
      "dcp-o-matic-batch-converter              pycharm-edu\n",
      "dcp-o-matic-encode-server                pyfa\n",
      "dcp-o-matic-kdm-creator                  pyzo\n",
      "dcp-o-matic-player                       qbittorrent\n",
      "deeper                                   qgis\n",
      "deepl                                    qlc-plus\n",
      "deezer                                   qobuz\n",
      "dingtalk                                 qownnotes\n",
      "disk-drill                               qq\n",
      "diskcatalogmaker                         qqmusic\n",
      "djay-pro                                 qtum\n",
      "dotnet                                   quail\n",
      "dotnet-sdk                               quaternion\n",
      "downie                                   querious\n",
      "drama                                    quickhash\n",
      "drivedx                                  quip\n",
      "dropdmg                                  qutebrowser\n",
      "eaglefiler                               qview\n",
      "easy-move-plus-resize                    r\n",
      "eiskaltdcpp                              raiderio\n",
      "electerm                                 rambox\n",
      "electron                                 raven-reader\n",
      "electron-cash                            razorsql\n",
      "electron-fiddle                          react-studio\n",
      "electrum                                 reaper\n",
      "element                                  rectangle\n",
      "elmedia-player                           refined-github-safari\n",
      "eloston-chromium                         regexhibit\n",
      "emby-server                              rekordbox\n",
      "emclient                                 remote-desktop-manager\n",
      "eme                                      remote-desktop-manager-free\n",
      "endurance                                remotix-agent\n",
      "epic-games                               removebg\n",
      "epichrome                                rescuetime\n",
      "eqmac                                    responsively\n",
      "eset-cyber-security-pro                  reunion\n",
      "eve-launcher                             rhinoceros\n",
      "evernote                                 ridibooks\n",
      "exodus                                   rightfont\n",
      "expandrive                               ringcentral\n",
      "expressvpn                               ringcentral-classic\n",
      "extraterm                                robo-3t\n",
      "fantastical                              rocket-chat\n",
      "farrago                                  rotato\n",
      "favro                                    rotki\n",
      "feishu                                   rstudio\n",
      "fellow                                   sabnzbd\n",
      "fing                                     santa\n",
      "firefox                                  sapmachine-jdk\n",
      "fission                                  scihubeva\n",
      "fl-studio                                scilab\n",
      "flash-npapi                              scrutiny\n",
      "flash-player                             seadrive\n",
      "flash-player-debugger                    seafile-client\n",
      "flash-player-debugger-npapi              seamonkey\n",
      "flash-player-debugger-ppapi              second-life-viewer\n",
      "flash-ppapi                              securesafe\n",
      "fldigi                                   segger-embedded-studio-for-arm\n",
      "flightgear                               sejda-pdf\n",
      "flipper                                  sequel-ace\n",
      "flock                                    session-manager-plugin\n",
      "flutter                                  sf-symbols\n",
      "fme                                      sharepod\n",
      "folding-at-home                          sidenotes\n",
      "folx                                     sidequest\n",
      "fontexplorer-x-pro                       signal\n",
      "fork                                     silentknight\n",
      "foxitreader                              sim-genie\n",
      "foxmail                                  simplenote\n",
      "framer                                   simply-fortran\n",
      "freac                                    sip\n",
      "freecad                                  sipgate-softphone\n",
      "freedom                                  sitebulb\n",
      "freetube                                 sizzy\n",
      "freeyourmusic                            sketch\n",
      "fsnotes                                  skybox\n",
      "futuniuniu                               skype\n",
      "ganache                                  skype-for-business\n",
      "garagebuy                                slack\n",
      "geany                                    slicer\n",
      "geekbench                                slite\n",
      "gemini                                   smartsvn\n",
      "genymotion                               snagit\n",
      "geogebra                                 snipaste\n",
      "geph                                     softorino-youtube-converter\n",
      "get-backup-pro                           soulver\n",
      "get-iplayer-automator                    soundsource\n",
      "ghost-browser                            spamsieve\n",
      "gifox                                    spatterlight\n",
      "gisto                                    spires\n",
      "gitkraken                                splashtop-business\n",
      "gloomhaven-helper                        splashtop-streamer\n",
      "gobdokumente                             splayer\n",
      "golly                                    splice\n",
      "goodsync                                 springtoolsuite\n",
      "google-chrome                            stack-stack\n",
      "google-featured-photos                   standard-notes\n",
      "gpower                                   staruml\n",
      "gpxsee                                   stats\n",
      "graphicconverter                         steermouse\n",
      "hackintool                               stoplight-studio\n",
      "hands-off                                strawberry\n",
      "hbuilderx                                streamlabs-obs\n",
      "historyhound                             stremio\n",
      "home-assistant                           studio-3t\n",
      "hookshot                                 subler\n",
      "houdahspot                               sublime-merge\n",
      "hstracker                                suitcase-fusion\n",
      "http-toolkit                             superproductivity\n",
      "hydrogen                                 suspicious-package\n",
      "ibackup-viewer                           swift-publisher\n",
      "icab                                     swiftformat-for-xcode\n",
      "icanhazshortcut                          swiftstack-client\n",
      "icefloor                                 swinsian\n",
      "icollections                             switchhosts\n",
      "iconjar                                  syncovery\n",
      "icq                                      syncplay\n",
      "iina                                     syncroom\n",
      "iina-plus                                syncthing\n",
      "ilok-license-manager                     syntax-highlight\n",
      "imazing                                  tableau\n",
      "imgotv                                   tableau-public\n",
      "imitone                                  tableau-reader\n",
      "insomnia                                 tableplus\n",
      "insomnia-designer                        tales-of-majeyal\n",
      "insync                                   tastyworks\n",
      "integrity                                teamdrive\n",
      "intune-company-portal                    teamviewer\n",
      "invisor-lite                             telavox-flow\n",
      "ipe                                      telegram\n",
      "ipepresenter                             telegram-desktop\n",
      "ipfs                                     tempo\n",
      "iridient-developer                       termius\n",
      "ishowu-instant                           tg-pro\n",
      "isteg                                    thebrain\n",
      "itsycal                                  thor\n",
      "itubedownloader                          thorium\n",
      "ivpn                                     thunderbird\n",
      "jalbum                                   tibco-jaspersoft-studio\n",
      "jalview                                  ticktick\n",
      "jamf-migrator                            tidepool-uploader\n",
      "jami                                     tiger-trade\n",
      "jamulus                                  timelane\n",
      "jasp                                     timer\n",
      "jclasslib-bytecode-viewer                timeular\n",
      "jedit-omega                              tinkerwell\n",
      "jgrasp                                   tinymediamanager\n",
      "jitouch                                  toggl-track\n",
      "jitsi-meet                               tongbu\n",
      "joplin                                   topcat\n",
      "jumpcut                                  tor-browser\n",
      "jumpshare                                torguard\n",
      "kactus                                   trader-workstation\n",
      "karabiner-elements                       tribler\n",
      "keep-it                                  trilium-notes\n",
      "keepassxc                                tropy\n",
      "kext-updater                             tunnelbear\n",
      "keycue                                   tuple\n",
      "keymanager                               turbo-boost-switcher\n",
      "keysmith                                 tuxera-ntfs\n",
      "kindle                                   tweetbot\n",
      "kite                                     tweeten\n",
      "klayout                                  twist\n",
      "klokki                                   ubersicht\n",
      "knime                                    ueli\n",
      "kodi                                     ultimate\n",
      "koodo-reader                             unity\n",
      "krita                                    unity-android-support-for-editor\n",
      "kui                                      unity-download-assistant\n",
      "lark                                     unity-hub\n",
      "lastpass                                 unity-ios-support-for-editor\n",
      "lazpaint                                 unity-lumin-support-for-editor\n",
      "lbry                                     unity-webgl-support-for-editor\n",
      "ledger-live                              unity-windows-support-for-editor\n",
      "lehreroffice                             usenapp\n",
      "libreoffice                              utools\n",
      "libreoffice-language-pack                vallum\n",
      "lifesize                                 vassal\n",
      "lingo                                    vellum\n",
      "linphone                                 vienna\n",
      "listen1                                  virtualbox\n",
      "loaf                                     virtualbox-extension-pack\n",
      "local                                    virtualhostx\n",
      "localdev                                 visicut\n",
      "logisim-evolution                        visual-paradigm\n",
      "logitech-presentation                    visual-paradigm-ce\n",
      "logos                                    visual-studio\n",
      "loom                                     visual-studio-code\n",
      "loopback                                 vitamin-r\n",
      "lrtimelapse                              vivaldi\n",
      "m3unify                                  vivi\n",
      "macbreakz                                vrew\n",
      "mactracker                               vscodium\n",
      "macupdater                               wasabi-wallet\n",
      "macx-dvd-ripper-pro                      waterfox-classic\n",
      "maltego                                  waterfox-current\n",
      "malus                                    weakauras-companion\n",
      "malwarebytes                             webcatalog\n",
      "mamp                                     webviewscreensaver\n",
      "mars                                     wechat\n",
      "marsedit                                 wechatwebdevtools\n",
      "marvel                                   whale\n",
      "marvin                                   whalebird\n",
      "masterway-note                           whatsapp\n",
      "mathpix-snipping-tool                    whichspace\n",
      "mattermost                               wickrme\n",
      "mcbopomofo                               wire\n",
      "mcgimp                                   wireshark\n",
      "megasync                                 wireshark-chmodbpf\n",
      "melodics                                 wondershare-filmora\n",
      "mendeley-reference-manager               wondershare-uniconverter\n",
      "menubar-countdown                        wordpresscom\n",
      "menumeters                               workflowy\n",
      "merlin-project                           wormhole\n",
      "meshlab                                  wrike\n",
      "metabase                                 x-swiftformat\n",
      "metasploit                               ximalaya\n",
      "mgba                                     xlink-kai\n",
      "mic-drop                                 yandex-disk\n",
      "microsoft-auto-update                    yate\n",
      "microsoft-edge                           yinxiangbiji\n",
      "microsoft-excel                          youdaodict\n",
      "microsoft-office                         youku\n",
      "microsoft-outlook                        zalo\n",
      "microsoft-powerpoint                     zenmap\n",
      "microsoft-teams                          zoc\n",
      "microsoft-word                           zoom-for-it-admins\n",
      "middle                                   zoomus\n",
      "miktex-console                           zotero\n",
      "milanote                                 zulu\n",
      "\u001b[34m==>\u001b[0m \u001b[1mDeleted Casks\u001b[0m\n",
      "coronasdk           delta               megahertz-knotes    realm-studio\n",
      "daedalus            levelator           odio                xact\n",
      "\n",
      "\u001b[34m==>\u001b[0m \u001b[1mDownloading https://homebrew.bintray.com/bottles/libomp-11.0.0.mojave.bottle\u001b[0m\n",
      "\u001b[34m==>\u001b[0m \u001b[1mDownloading from https://d29vzk4ow07wi7.cloudfront.net/0716db5d51938b2fae8ab\u001b[0m\n",
      "######################################################################## 100.0%\n",
      "\u001b[34m==>\u001b[0m \u001b[1mPouring libomp-11.0.0.mojave.bottle.tar.gz\u001b[0m\n",
      "🍺  /usr/local/Cellar/libomp/11.0.0: 9 files, 1.4MB\n"
     ]
    }
   ],
   "source": [
    "!brew install libomp"
   ]
  },
  {
   "cell_type": "code",
   "execution_count": 35,
   "metadata": {},
   "outputs": [],
   "source": [
    "from xgboost import XGBRegressor\n",
    "algo = XGBRegressor()"
   ]
  },
  {
   "cell_type": "code",
   "execution_count": 37,
   "metadata": {},
   "outputs": [
    {
     "ename": "NameError",
     "evalue": "name 'valeurs_de_recherches' is not defined",
     "output_type": "error",
     "traceback": [
      "\u001b[0;31m---------------------------------------------------------------------------\u001b[0m",
      "\u001b[0;31mNameError\u001b[0m                                 Traceback (most recent call last)",
      "\u001b[0;32m<ipython-input-37-11b3be232e3d>\u001b[0m in \u001b[0;36m<module>\u001b[0;34m\u001b[0m\n\u001b[1;32m     12\u001b[0m         \u001b[0;32mif\u001b[0m \u001b[0mtype\u001b[0m\u001b[0;34m(\u001b[0m\u001b[0mdefault_value\u001b[0m\u001b[0;34m)\u001b[0m \u001b[0;34m==\u001b[0m \u001b[0mbool\u001b[0m\u001b[0;34m:\u001b[0m\u001b[0;34m\u001b[0m\u001b[0;34m\u001b[0m\u001b[0m\n\u001b[1;32m     13\u001b[0m             \u001b[0mvaleurs_de_recherches\u001b[0m \u001b[0;34m=\u001b[0m \u001b[0;34m[\u001b[0m\u001b[0;32mTrue\u001b[0m\u001b[0;34m,\u001b[0m \u001b[0;32mFalse\u001b[0m\u001b[0;34m]\u001b[0m\u001b[0;34m\u001b[0m\u001b[0;34m\u001b[0m\u001b[0m\n\u001b[0;32m---> 14\u001b[0;31m         \u001b[0mespace_de_Recherche\u001b[0m\u001b[0;34m[\u001b[0m\u001b[0mhyperparam\u001b[0m\u001b[0;34m]\u001b[0m\u001b[0;34m=\u001b[0m\u001b[0mvaleurs_de_recherches\u001b[0m\u001b[0;34m\u001b[0m\u001b[0;34m\u001b[0m\u001b[0m\n\u001b[0m\u001b[1;32m     15\u001b[0m         \u001b[0mprint\u001b[0m\u001b[0;34m(\u001b[0m\u001b[0mhyperparam\u001b[0m\u001b[0;34m,\u001b[0m \u001b[0mdefault_value\u001b[0m\u001b[0;34m,\u001b[0m \u001b[0mvaleurs_de_recherches\u001b[0m\u001b[0;34m)\u001b[0m\u001b[0;34m\u001b[0m\u001b[0;34m\u001b[0m\u001b[0m\n\u001b[1;32m     16\u001b[0m \u001b[0mespace_de_Recherche\u001b[0m\u001b[0;34m[\u001b[0m\u001b[0;34m\"n_jobs\"\u001b[0m\u001b[0;34m]\u001b[0m\u001b[0;34m=\u001b[0m\u001b[0;34m[\u001b[0m\u001b[0;34m-\u001b[0m\u001b[0;36m1\u001b[0m\u001b[0;34m]\u001b[0m\u001b[0;34m\u001b[0m\u001b[0;34m\u001b[0m\u001b[0m\n",
      "\u001b[0;31mNameError\u001b[0m: name 'valeurs_de_recherches' is not defined"
     ]
    }
   ],
   "source": [
    "default_hyperparameters = algo.get_params()\n",
    "espace_de_Recherche = {}\n",
    "for i, hyperparam in enumerate(default_hyperparameters):\n",
    "    default_value = default_hyperparameters[hyperparam]\n",
    "    if default_value:\n",
    "        if type(default_value) == int:\n",
    "            delta = default_value * 2\n",
    "            valeurs_de_recherches = [default_value-delta,default_value, default_value+ delta]\n",
    "        if type(default_value) == float:\n",
    "            delta = default_value * 0.1\n",
    "            valeurs_de_recherches = [default_value-delta,default_value, default_value+ delta]\n",
    "        if type(default_value) == bool:\n",
    "            valeurs_de_recherches = [True, False]\n",
    "        espace_de_Recherche[hyperparam]=valeurs_de_recherches\n",
    "        print(hyperparam, default_value, valeurs_de_recherches)\n",
    "espace_de_Recherche[\"n_jobs\"]=[-1]"
   ]
  },
  {
   "cell_type": "code",
   "execution_count": 41,
   "metadata": {},
   "outputs": [],
   "source": [
    "def test_hyperparametres(algo, hyperparametres):\n",
    "    grid       = GridSearchCV(algo, hyperparametres, n_jobs=-1)\n",
    "    grid.fit(X_train, y_train)\n",
    "    print (grid.best_score_, grid.best_estimator_)    \n",
    "    return grid.best_score_, grid.best_estimator_\n"
   ]
  },
  {
   "cell_type": "code",
   "execution_count": 42,
   "metadata": {},
   "outputs": [
    {
     "name": "stdout",
     "output_type": "stream",
     "text": [
      "0.8203587371796018 XGBRegressor(base_score=0.5, booster='gbtree', colsample_bylevel=1,\n",
      "             colsample_bynode=1, colsample_bytree=1, gamma=1, gpu_id=-1,\n",
      "             importance_type='gain', interaction_constraints='',\n",
      "             learning_rate=0.300000012, max_delta_step=0, max_depth=10,\n",
      "             min_child_weight=1, missing=nan, monotone_constraints='()',\n",
      "             n_estimators=100, n_jobs=0, num_parallel_tree=1, random_state=0,\n",
      "             reg_alpha=0, reg_lambda=1, scale_pos_weight=1, subsample=1,\n",
      "             tree_method='exact', validate_parameters=1, verbosity=None)\n"
     ]
    },
    {
     "data": {
      "text/plain": [
       "(0.8203587371796018,\n",
       " XGBRegressor(base_score=0.5, booster='gbtree', colsample_bylevel=1,\n",
       "              colsample_bynode=1, colsample_bytree=1, gamma=1, gpu_id=-1,\n",
       "              importance_type='gain', interaction_constraints='',\n",
       "              learning_rate=0.300000012, max_delta_step=0, max_depth=10,\n",
       "              min_child_weight=1, missing=nan, monotone_constraints='()',\n",
       "              n_estimators=100, n_jobs=0, num_parallel_tree=1, random_state=0,\n",
       "              reg_alpha=0, reg_lambda=1, scale_pos_weight=1, subsample=1,\n",
       "              tree_method='exact', validate_parameters=1, verbosity=None))"
      ]
     },
     "execution_count": 42,
     "metadata": {},
     "output_type": "execute_result"
    }
   ],
   "source": [
    "espace_de_Recherche = {\n",
    "    \"max_depth\" : [1,5,10],\n",
    "    \"gamma\" : [0.5, 1, 1.1, 1.2, 1.5]\n",
    "}\n",
    "test_hyperparametres(XGBRegressor(), espace_de_Recherche)"
   ]
  },
  {
   "cell_type": "code",
   "execution_count": 43,
   "metadata": {},
   "outputs": [
    {
     "data": {
      "text/plain": [
       "0.8466652139081778"
      ]
     },
     "execution_count": 43,
     "metadata": {},
     "output_type": "execute_result"
    }
   ],
   "source": [
    "modele = algo.fit(X_train, y_train)\n",
    "\n",
    "modele.score(X_test, y_test)"
   ]
  },
  {
   "cell_type": "markdown",
   "metadata": {},
   "source": [
    "# 6) tester tous les algorithmes"
   ]
  },
  {
   "cell_type": "code",
   "execution_count": 44,
   "metadata": {},
   "outputs": [],
   "source": [
    "def get_sklearn_algorithms(verbose = False):\n",
    "    \"\"\"\n",
    "    Explore all submodule of sklearn and fetch functions having a 'fit' attribute.\n",
    "    \n",
    "    Be careful : some functions are not models (ex : crossvalidators)\n",
    "    Parameters :\n",
    "        debug = print or not stuff on console\n",
    "    Return :\n",
    "        dict : { module : [ fit_functions] }\n",
    "    \"\"\"\n",
    "    from collections import defaultdict\n",
    "    import importlib\n",
    "    import sklearn\n",
    "    algos = defaultdict(list)\n",
    "    if verbose : print (dir(sklearn))\n",
    "    for nom_module in dir(sklearn):    \n",
    "        if verbose : print (nom_module)\n",
    "        try:\n",
    "            to_import = \"sklearn.%s\"%nom_module\n",
    "            module    = importlib.import_module(to_import)\n",
    "            for nom_fonction in dir(module):\n",
    "                fonction = getattr(module, nom_fonction)\n",
    "                if hasattr(fonction, \"fit\"):\n",
    "                    if verbose : print (\" nom algorithme  = \", nom_fonction)\n",
    "                    algos[nom_module].append(fonction)                                            \n",
    "        except Exception as e:\n",
    "            if verbose : print( e)\n",
    "        if verbose: print (\"=\"*30)\n",
    "    return algos"
   ]
  },
  {
   "cell_type": "code",
   "execution_count": 45,
   "metadata": {},
   "outputs": [
    {
     "data": {
      "text/plain": [
       "defaultdict(list,\n",
       "            {'feature_extraction': [sklearn.feature_extraction._dict_vectorizer.DictVectorizer,\n",
       "              sklearn.feature_extraction._hash.FeatureHasher],\n",
       "             'linear_model': [sklearn.linear_model._bayes.ARDRegression,\n",
       "              sklearn.linear_model._bayes.BayesianRidge,\n",
       "              sklearn.linear_model._coordinate_descent.ElasticNet,\n",
       "              sklearn.linear_model._coordinate_descent.ElasticNetCV,\n",
       "              sklearn.linear_model._glm.glm.GammaRegressor,\n",
       "              sklearn.linear_model._huber.HuberRegressor,\n",
       "              sklearn.linear_model._least_angle.Lars,\n",
       "              sklearn.linear_model._least_angle.LarsCV,\n",
       "              sklearn.linear_model._coordinate_descent.Lasso,\n",
       "              sklearn.linear_model._coordinate_descent.LassoCV,\n",
       "              sklearn.linear_model._least_angle.LassoLars,\n",
       "              sklearn.linear_model._least_angle.LassoLarsCV,\n",
       "              sklearn.linear_model._least_angle.LassoLarsIC,\n",
       "              sklearn.linear_model._base.LinearRegression,\n",
       "              sklearn.linear_model._logistic.LogisticRegression,\n",
       "              sklearn.linear_model._logistic.LogisticRegressionCV,\n",
       "              sklearn.linear_model._coordinate_descent.MultiTaskElasticNet,\n",
       "              sklearn.linear_model._coordinate_descent.MultiTaskElasticNetCV,\n",
       "              sklearn.linear_model._coordinate_descent.MultiTaskLasso,\n",
       "              sklearn.linear_model._coordinate_descent.MultiTaskLassoCV,\n",
       "              sklearn.linear_model._omp.OrthogonalMatchingPursuit,\n",
       "              sklearn.linear_model._omp.OrthogonalMatchingPursuitCV,\n",
       "              sklearn.linear_model._passive_aggressive.PassiveAggressiveClassifier,\n",
       "              sklearn.linear_model._passive_aggressive.PassiveAggressiveRegressor,\n",
       "              sklearn.linear_model._perceptron.Perceptron,\n",
       "              sklearn.linear_model._glm.glm.PoissonRegressor,\n",
       "              sklearn.linear_model._ransac.RANSACRegressor,\n",
       "              sklearn.linear_model._ridge.Ridge,\n",
       "              sklearn.linear_model._ridge.RidgeCV,\n",
       "              sklearn.linear_model._ridge.RidgeClassifier,\n",
       "              sklearn.linear_model._ridge.RidgeClassifierCV,\n",
       "              sklearn.linear_model._stochastic_gradient.SGDClassifier,\n",
       "              sklearn.linear_model._stochastic_gradient.SGDRegressor,\n",
       "              sklearn.linear_model._theil_sen.TheilSenRegressor,\n",
       "              sklearn.linear_model._glm.glm.TweedieRegressor],\n",
       "             'model_selection': [sklearn.model_selection._search.GridSearchCV,\n",
       "              sklearn.model_selection._search.RandomizedSearchCV],\n",
       "             'preprocessing': [sklearn.preprocessing._data.Binarizer,\n",
       "              sklearn.preprocessing._function_transformer.FunctionTransformer,\n",
       "              sklearn.preprocessing._discretization.KBinsDiscretizer,\n",
       "              sklearn.preprocessing._data.KernelCenterer,\n",
       "              sklearn.preprocessing._label.LabelBinarizer,\n",
       "              sklearn.preprocessing._label.LabelEncoder,\n",
       "              sklearn.preprocessing._data.MaxAbsScaler,\n",
       "              sklearn.preprocessing._data.MinMaxScaler,\n",
       "              sklearn.preprocessing._label.MultiLabelBinarizer,\n",
       "              sklearn.preprocessing._data.Normalizer,\n",
       "              sklearn.preprocessing._encoders.OneHotEncoder,\n",
       "              sklearn.preprocessing._encoders.OrdinalEncoder,\n",
       "              sklearn.preprocessing._data.PolynomialFeatures,\n",
       "              sklearn.preprocessing._data.PowerTransformer,\n",
       "              sklearn.preprocessing._data.QuantileTransformer,\n",
       "              sklearn.preprocessing._data.RobustScaler,\n",
       "              sklearn.preprocessing._data.StandardScaler],\n",
       "             'svm': [sklearn.svm._classes.LinearSVC,\n",
       "              sklearn.svm._classes.LinearSVR,\n",
       "              sklearn.svm._classes.NuSVC,\n",
       "              sklearn.svm._classes.NuSVR,\n",
       "              sklearn.svm._classes.OneClassSVM,\n",
       "              sklearn.svm._classes.SVC,\n",
       "              sklearn.svm._classes.SVR,\n",
       "              <module 'sklearn.svm._libsvm' from '/Applications/anaconda3/envs/python38/lib/python3.8/site-packages/sklearn/svm/_libsvm.cpython-38-darwin.so'>]})"
      ]
     },
     "execution_count": 45,
     "metadata": {},
     "output_type": "execute_result"
    }
   ],
   "source": [
    "algos = get_sklearn_algorithms()\n",
    "algos"
   ]
  },
  {
   "cell_type": "markdown",
   "metadata": {},
   "source": [
    "## Liste les algorithmes"
   ]
  },
  {
   "cell_type": "code",
   "execution_count": 46,
   "metadata": {},
   "outputs": [
    {
     "name": "stdout",
     "output_type": "stream",
     "text": [
      "\n",
      "===> feature_extraction\n",
      "DictVectorizer,FeatureHasher\n",
      "\n",
      "===> linear_model\n",
      "ARDRegression,BayesianRidge,ElasticNet,ElasticNetCV,GammaRegressor,HuberRegressor,Lars,LarsCV,Lasso,LassoCV,LassoLars,LassoLarsCV,LassoLarsIC,LinearRegression,LogisticRegression,LogisticRegressionCV,MultiTaskElasticNet,MultiTaskElasticNetCV,MultiTaskLasso,MultiTaskLassoCV,OrthogonalMatchingPursuit,OrthogonalMatchingPursuitCV,PassiveAggressiveClassifier,PassiveAggressiveRegressor,Perceptron,PoissonRegressor,RANSACRegressor,Ridge,RidgeCV,RidgeClassifier,RidgeClassifierCV,SGDClassifier,SGDRegressor,TheilSenRegressor,TweedieRegressor\n",
      "\n",
      "===> model_selection\n",
      "GridSearchCV,RandomizedSearchCV\n",
      "\n",
      "===> preprocessing\n",
      "Binarizer,FunctionTransformer,KBinsDiscretizer,KernelCenterer,LabelBinarizer,LabelEncoder,MaxAbsScaler,MinMaxScaler,MultiLabelBinarizer,Normalizer,OneHotEncoder,OrdinalEncoder,PolynomialFeatures,PowerTransformer,QuantileTransformer,RobustScaler,StandardScaler\n",
      "\n",
      "===> svm\n",
      "LinearSVC,LinearSVR,NuSVC,NuSVR,OneClassSVM,SVC,SVR,so\n"
     ]
    }
   ],
   "source": [
    "algos = get_sklearn_algorithms()\n",
    "for key in algos.keys():\n",
    "    print (\"\\n===>\",key)\n",
    "    algos_ = []\n",
    "    for algo in algos[key]:\n",
    "        classe_algo = str(algo)\n",
    "        nom_algo    = classe_algo[str(classe_algo).rfind(\".\")+1:str(classe_algo).rfind(\"'\")]\n",
    "        algos_.append(nom_algo)\n",
    "    print (\",\".join(algos_))"
   ]
  },
  {
   "cell_type": "markdown",
   "metadata": {},
   "source": [
    "## supprimer les warnings dans jupyter"
   ]
  },
  {
   "cell_type": "code",
   "execution_count": 47,
   "metadata": {},
   "outputs": [],
   "source": [
    "import warnings\n",
    "warnings.filterwarnings(\"ignore\", category=DeprecationWarning) "
   ]
  },
  {
   "cell_type": "markdown",
   "metadata": {},
   "source": [
    "## Utiliser chaque algo et conserver les performances"
   ]
  },
  {
   "cell_type": "code",
   "execution_count": 48,
   "metadata": {},
   "outputs": [
    {
     "name": "stdout",
     "output_type": "stream",
     "text": [
      "Transforms lists of featu\n",
      "'numpy.ndarray' object has no attribute 'items'\n",
      "==============================\n",
      "Implements feature hashin\n",
      "'FeatureHasher' object has no attribute 'score'\n",
      "==============================\n",
      "Bayesian ARD regression.\n",
      "0.6304276088087879\n",
      "==============================\n",
      "Bayesian ridge regression\n",
      "0.6335220593780816\n",
      "==============================\n",
      "Linear regression with co\n",
      "0.5187732792179512\n",
      "==============================\n",
      "Elastic Net model with it\n",
      "0.6327478175522371\n",
      "==============================\n",
      "Generalized Linear Model\n",
      "0.5474184928346455\n",
      "==============================\n",
      "Linear regression model t\n",
      "0.5968552325995591\n",
      "==============================\n",
      "Least Angle Regression mo\n",
      "0.6365087793912102\n",
      "==============================\n",
      "Cross-validated Least Ang\n",
      "0.5890827698008859\n",
      "==============================\n",
      "Linear Model trained with\n",
      "0.5754689471614245\n",
      "==============================\n",
      "Lasso linear model with i\n",
      "0.6316320582295359\n",
      "==============================\n",
      "Lasso model fit with Leas\n",
      "-0.019199558983028497\n",
      "==============================\n",
      "Cross-validated Lasso, us\n",
      "0.631721248924312\n",
      "==============================\n",
      "Lasso model fit with Lars\n",
      "0.5966701656339571\n",
      "==============================\n",
      "Ordinary least squar\n",
      "0.6365087793912108\n",
      "==============================\n",
      "Logistic Regression\n",
      "Algo de classification\n",
      "==============================\n",
      "Logistic Regression CV (a\n",
      "Algo de classification\n",
      "==============================\n",
      "Multi-task ElasticNet mod\n",
      "For mono-task outputs, use ElasticNet\n",
      "==============================\n",
      "Multi-task L1/L2 ElasticN\n",
      "For mono-task outputs, use ElasticNetCV\n",
      "==============================\n",
      "Multi-task Lasso model tr\n",
      "For mono-task outputs, use ElasticNet\n",
      "==============================\n",
      "Multi-task Lasso model tr\n",
      "For mono-task outputs, use LassoCV\n",
      "==============================\n",
      "Orthogonal Matching Pursu\n",
      "0.5014161337075301\n",
      "==============================\n",
      "Cross-validated Orthogona\n",
      "0.5777550330301747\n",
      "==============================\n",
      "Passive Aggressive Classi\n",
      "Algo de classification\n",
      "==============================\n",
      "Passive Aggressive Regres\n",
      "0.38647928223460704\n",
      "==============================\n",
      "Perceptron\n",
      "\n",
      "    Read more\n",
      "Algo de classification\n",
      "==============================\n",
      "Generalized Linear Model\n",
      "0.7003224796578386\n",
      "==============================\n",
      "RANSAC (RANdom SAmple Con\n",
      "0.4951534141474737\n",
      "==============================\n",
      "Linear least squares with\n",
      "0.6359958292945186\n",
      "==============================\n",
      "Ridge regression with bui\n",
      "0.6307630183423659\n",
      "==============================\n",
      "Classifier using Ridge re\n",
      "Algo de classification\n",
      "==============================\n",
      "Ridge classifier with bui\n",
      "Algo de classification\n",
      "==============================\n",
      "Linear classifiers (SVM,\n",
      "Algo de classification\n",
      "==============================\n",
      "Linear model fitted by mi\n",
      "0.6291356179739686\n",
      "==============================\n",
      "Theil-Sen Estimator\n",
      "0.41374220012793317\n",
      "==============================\n",
      "Generalized Linear Model\n",
      "0.500169912156526\n",
      "==============================\n",
      "__init__() missing 2 required positional arguments\n",
      "==============================\n",
      "__init__() missing 2 required positional arguments\n",
      "==============================\n",
      "Binarize data (set featur\n",
      "'Binarizer' object has no attribute 'score'\n",
      "==============================\n",
      "Constructs a transformer\n",
      "'FunctionTransformer' object has no attribute 'sco\n",
      "==============================\n",
      "Bin continuous data\n",
      "'KBinsDiscretizer' object has no attribute 'score'\n",
      "==============================\n",
      "Center a kernel matrix\n",
      "Kernel matrix must be a square matrix. Input is a \n",
      "==============================\n",
      "Binarize labels in a one-\n",
      "fit() takes 2 positional arguments but 3 were give\n",
      "==============================\n",
      "Encode target labels with\n",
      "fit() takes 2 positional arguments but 3 were give\n",
      "==============================\n",
      "Scale each feature by its\n",
      "'MaxAbsScaler' object has no attribute 'score'\n",
      "==============================\n",
      "Transform features by sca\n",
      "'MinMaxScaler' object has no attribute 'score'\n",
      "==============================\n",
      "Transform between iterabl\n",
      "fit() takes 2 positional arguments but 3 were give\n",
      "==============================\n",
      "Normalize samples individ\n",
      "'Normalizer' object has no attribute 'score'\n",
      "==============================\n",
      "Encode categorical f\n",
      "'OneHotEncoder' object has no attribute 'score'\n",
      "==============================\n",
      "Encode categorical f\n",
      "'OrdinalEncoder' object has no attribute 'score'\n",
      "==============================\n",
      "Generate polynomial and i\n",
      "'PolynomialFeatures' object has no attribute 'scor\n",
      "==============================\n",
      "Apply a power transform f\n",
      "'PowerTransformer' object has no attribute 'score'\n",
      "==============================\n",
      "Transform features using\n",
      "'QuantileTransformer' object has no attribute 'sco\n",
      "==============================\n",
      "Scale features using stat\n",
      "'RobustScaler' object has no attribute 'score'\n",
      "==============================\n",
      "Standardize features by r\n",
      "'StandardScaler' object has no attribute 'score'\n",
      "==============================\n",
      "Linear Support Vector Cla\n",
      "Algo de classification\n",
      "==============================\n",
      "Linear Support Vector Reg\n",
      "0.5947899261203088\n",
      "==============================\n",
      "Nu-Support Vector Classif\n",
      "Algo de classification\n",
      "==============================\n",
      "Nu Support Vector Regress\n",
      "0.49283003351433075\n",
      "==============================\n",
      "Unsupervised Outlier Dete\n",
      "'OneClassSVM' object has no attribute 'score'\n",
      "==============================\n",
      "C-Support Vector Classifi\n",
      "Algo de classification\n",
      "==============================\n",
      "Epsilon-Support Vector Re\n",
      "0.5017317740478868\n",
      "==============================\n",
      "'module' object is not callable\n",
      "==============================\n"
     ]
    },
    {
     "name": "stderr",
     "output_type": "stream",
     "text": [
      "/Applications/anaconda3/envs/python38/lib/python3.8/site-packages/sklearn/preprocessing/_discretization.py:200: UserWarning: Bins whose width are too small (i.e., <= 1e-8) in feature 1 are removed. Consider decreasing the number of bins.\n",
      "  warnings.warn('Bins whose width are too small (i.e., <= '\n",
      "/Applications/anaconda3/envs/python38/lib/python3.8/site-packages/sklearn/preprocessing/_discretization.py:200: UserWarning: Bins whose width are too small (i.e., <= 1e-8) in feature 3 are removed. Consider decreasing the number of bins.\n",
      "  warnings.warn('Bins whose width are too small (i.e., <= '\n",
      "/Applications/anaconda3/envs/python38/lib/python3.8/site-packages/sklearn/preprocessing/_discretization.py:200: UserWarning: Bins whose width are too small (i.e., <= 1e-8) in feature 8 are removed. Consider decreasing the number of bins.\n",
      "  warnings.warn('Bins whose width are too small (i.e., <= '\n",
      "/Applications/anaconda3/envs/python38/lib/python3.8/site-packages/sklearn/preprocessing/_discretization.py:200: UserWarning: Bins whose width are too small (i.e., <= 1e-8) in feature 11 are removed. Consider decreasing the number of bins.\n",
      "  warnings.warn('Bins whose width are too small (i.e., <= '\n",
      "/Applications/anaconda3/envs/python38/lib/python3.8/site-packages/sklearn/preprocessing/_data.py:2367: UserWarning: n_quantiles (1000) is greater than the total number of samples (339). n_quantiles is set to n_samples.\n",
      "  warnings.warn(\"n_quantiles (%s) is greater than the total number \"\n"
     ]
    }
   ],
   "source": [
    "performances               = {}\n",
    "modeles_a_tester           = []\n",
    "classes_de_models_a_tester = algos.keys()\n",
    "best_algorithm = 0\n",
    "best_perf = 0\n",
    "for classe_de_models in classes_de_models_a_tester:\n",
    "    modeles_a_tester.extend(algos[classe_de_models])\n",
    "    \n",
    "for pointeur_vers_algo in modeles_a_tester:\n",
    "    try:\n",
    "        algorithme = pointeur_vers_algo()\n",
    "        doc        = algorithme.__doc__\n",
    "        name       = doc[:min(doc.find(\":\"), 25)].strip()\n",
    "        print (name)\n",
    "        algorithme.fit(X_train, y_train)\n",
    "        performance = algorithme.score(X_test, y_test)\n",
    "        print (performance)\n",
    "        if performance >  best_perf:\n",
    "            best_algorithm = algorithme\n",
    "            best_perf = performance\n",
    "            \n",
    "        if 0<performance and performance<1:\n",
    "            performances[name] = [performance]\n",
    "    except Exception as e:\n",
    "        if \"label\" in str(e): print (\"Algo de classification\")\n",
    "        else                : print (str(e)[:50])\n",
    "    print (\"=\"*30)\n",
    "    "
   ]
  },
  {
   "cell_type": "markdown",
   "metadata": {},
   "source": [
    "## meilleur algo"
   ]
  },
  {
   "cell_type": "code",
   "execution_count": 49,
   "metadata": {},
   "outputs": [
    {
     "data": {
      "text/plain": [
       "(PoissonRegressor(), 0.7003224796578386)"
      ]
     },
     "execution_count": 49,
     "metadata": {},
     "output_type": "execute_result"
    }
   ],
   "source": [
    "best_algorithm, best_perf"
   ]
  },
  {
   "cell_type": "markdown",
   "metadata": {},
   "source": [
    "## Performances de chaque algo :"
   ]
  },
  {
   "cell_type": "code",
   "execution_count": 50,
   "metadata": {},
   "outputs": [
    {
     "data": {
      "text/plain": [
       "{'Bayesian ARD regression.': [0.6304276088087879],\n",
       " 'Bayesian ridge regression': [0.6335220593780816],\n",
       " 'Linear regression with co': [0.5187732792179512],\n",
       " 'Elastic Net model with it': [0.6327478175522371],\n",
       " 'Generalized Linear Model': [0.500169912156526],\n",
       " 'Linear regression model t': [0.5968552325995591],\n",
       " 'Least Angle Regression mo': [0.6365087793912102],\n",
       " 'Cross-validated Least Ang': [0.5890827698008859],\n",
       " 'Linear Model trained with': [0.5754689471614245],\n",
       " 'Lasso linear model with i': [0.6316320582295359],\n",
       " 'Cross-validated Lasso, us': [0.631721248924312],\n",
       " 'Lasso model fit with Lars': [0.5966701656339571],\n",
       " 'Ordinary least squar': [0.6365087793912108],\n",
       " 'Orthogonal Matching Pursu': [0.5014161337075301],\n",
       " 'Cross-validated Orthogona': [0.5777550330301747],\n",
       " 'Passive Aggressive Regres': [0.38647928223460704],\n",
       " 'RANSAC (RANdom SAmple Con': [0.4951534141474737],\n",
       " 'Linear least squares with': [0.6359958292945186],\n",
       " 'Ridge regression with bui': [0.6307630183423659],\n",
       " 'Linear model fitted by mi': [0.6291356179739686],\n",
       " 'Theil-Sen Estimator': [0.41374220012793317],\n",
       " 'Linear Support Vector Reg': [0.5947899261203088],\n",
       " 'Nu Support Vector Regress': [0.49283003351433075],\n",
       " 'Epsilon-Support Vector Re': [0.5017317740478868]}"
      ]
     },
     "execution_count": 50,
     "metadata": {},
     "output_type": "execute_result"
    }
   ],
   "source": [
    "performances"
   ]
  },
  {
   "cell_type": "markdown",
   "metadata": {},
   "source": [
    "## on manipule les performances via panda"
   ]
  },
  {
   "cell_type": "code",
   "execution_count": 51,
   "metadata": {},
   "outputs": [],
   "source": [
    "import pandas as pd"
   ]
  },
  {
   "cell_type": "code",
   "execution_count": 52,
   "metadata": {},
   "outputs": [],
   "source": [
    "df = pd.DataFrame(performances).T"
   ]
  },
  {
   "cell_type": "code",
   "execution_count": 53,
   "metadata": {},
   "outputs": [],
   "source": [
    "col_name = \"performance\"\n",
    "df.columns = [col_name]"
   ]
  },
  {
   "cell_type": "code",
   "execution_count": 56,
   "metadata": {},
   "outputs": [
    {
     "data": {
      "text/html": [
       "<div>\n",
       "<style scoped>\n",
       "    .dataframe tbody tr th:only-of-type {\n",
       "        vertical-align: middle;\n",
       "    }\n",
       "\n",
       "    .dataframe tbody tr th {\n",
       "        vertical-align: top;\n",
       "    }\n",
       "\n",
       "    .dataframe thead th {\n",
       "        text-align: right;\n",
       "    }\n",
       "</style>\n",
       "<table border=\"1\" class=\"dataframe\">\n",
       "  <thead>\n",
       "    <tr style=\"text-align: right;\">\n",
       "      <th></th>\n",
       "      <th>performance</th>\n",
       "    </tr>\n",
       "  </thead>\n",
       "  <tbody>\n",
       "    <tr>\n",
       "      <th>Bayesian ARD regression.</th>\n",
       "      <td>0.630428</td>\n",
       "    </tr>\n",
       "    <tr>\n",
       "      <th>Bayesian ridge regression</th>\n",
       "      <td>0.633522</td>\n",
       "    </tr>\n",
       "    <tr>\n",
       "      <th>Linear regression with co</th>\n",
       "      <td>0.518773</td>\n",
       "    </tr>\n",
       "    <tr>\n",
       "      <th>Elastic Net model with it</th>\n",
       "      <td>0.632748</td>\n",
       "    </tr>\n",
       "    <tr>\n",
       "      <th>Generalized Linear Model</th>\n",
       "      <td>0.500170</td>\n",
       "    </tr>\n",
       "    <tr>\n",
       "      <th>Linear regression model t</th>\n",
       "      <td>0.596855</td>\n",
       "    </tr>\n",
       "    <tr>\n",
       "      <th>Least Angle Regression mo</th>\n",
       "      <td>0.636509</td>\n",
       "    </tr>\n",
       "    <tr>\n",
       "      <th>Cross-validated Least Ang</th>\n",
       "      <td>0.589083</td>\n",
       "    </tr>\n",
       "    <tr>\n",
       "      <th>Linear Model trained with</th>\n",
       "      <td>0.575469</td>\n",
       "    </tr>\n",
       "    <tr>\n",
       "      <th>Lasso linear model with i</th>\n",
       "      <td>0.631632</td>\n",
       "    </tr>\n",
       "    <tr>\n",
       "      <th>Cross-validated Lasso, us</th>\n",
       "      <td>0.631721</td>\n",
       "    </tr>\n",
       "    <tr>\n",
       "      <th>Lasso model fit with Lars</th>\n",
       "      <td>0.596670</td>\n",
       "    </tr>\n",
       "    <tr>\n",
       "      <th>Ordinary least squar</th>\n",
       "      <td>0.636509</td>\n",
       "    </tr>\n",
       "    <tr>\n",
       "      <th>Orthogonal Matching Pursu</th>\n",
       "      <td>0.501416</td>\n",
       "    </tr>\n",
       "    <tr>\n",
       "      <th>Cross-validated Orthogona</th>\n",
       "      <td>0.577755</td>\n",
       "    </tr>\n",
       "    <tr>\n",
       "      <th>Passive Aggressive Regres</th>\n",
       "      <td>0.386479</td>\n",
       "    </tr>\n",
       "    <tr>\n",
       "      <th>RANSAC (RANdom SAmple Con</th>\n",
       "      <td>0.495153</td>\n",
       "    </tr>\n",
       "    <tr>\n",
       "      <th>Linear least squares with</th>\n",
       "      <td>0.635996</td>\n",
       "    </tr>\n",
       "    <tr>\n",
       "      <th>Ridge regression with bui</th>\n",
       "      <td>0.630763</td>\n",
       "    </tr>\n",
       "    <tr>\n",
       "      <th>Linear model fitted by mi</th>\n",
       "      <td>0.629136</td>\n",
       "    </tr>\n",
       "    <tr>\n",
       "      <th>Theil-Sen Estimator</th>\n",
       "      <td>0.413742</td>\n",
       "    </tr>\n",
       "    <tr>\n",
       "      <th>Linear Support Vector Reg</th>\n",
       "      <td>0.594790</td>\n",
       "    </tr>\n",
       "    <tr>\n",
       "      <th>Nu Support Vector Regress</th>\n",
       "      <td>0.492830</td>\n",
       "    </tr>\n",
       "    <tr>\n",
       "      <th>Epsilon-Support Vector Re</th>\n",
       "      <td>0.501732</td>\n",
       "    </tr>\n",
       "  </tbody>\n",
       "</table>\n",
       "</div>"
      ],
      "text/plain": [
       "                           performance\n",
       "Bayesian ARD regression.      0.630428\n",
       "Bayesian ridge regression     0.633522\n",
       "Linear regression with co     0.518773\n",
       "Elastic Net model with it     0.632748\n",
       "Generalized Linear Model      0.500170\n",
       "Linear regression model t     0.596855\n",
       "Least Angle Regression mo     0.636509\n",
       "Cross-validated Least Ang     0.589083\n",
       "Linear Model trained with     0.575469\n",
       "Lasso linear model with i     0.631632\n",
       "Cross-validated Lasso, us     0.631721\n",
       "Lasso model fit with Lars     0.596670\n",
       "Ordinary least squar          0.636509\n",
       "Orthogonal Matching Pursu     0.501416\n",
       "Cross-validated Orthogona     0.577755\n",
       "Passive Aggressive Regres     0.386479\n",
       "RANSAC (RANdom SAmple Con     0.495153\n",
       "Linear least squares with     0.635996\n",
       "Ridge regression with bui     0.630763\n",
       "Linear model fitted by mi     0.629136\n",
       "Theil-Sen Estimator           0.413742\n",
       "Linear Support Vector Reg     0.594790\n",
       "Nu Support Vector Regress     0.492830\n",
       "Epsilon-Support Vector Re     0.501732"
      ]
     },
     "execution_count": 56,
     "metadata": {},
     "output_type": "execute_result"
    }
   ],
   "source": [
    "df.performance.sort_values()\n",
    "df"
   ]
  },
  {
   "cell_type": "markdown",
   "metadata": {},
   "source": [
    "## calcul des gains de performance d'un algo l'autre"
   ]
  },
  {
   "cell_type": "code",
   "execution_count": 57,
   "metadata": {},
   "outputs": [],
   "source": [
    "liste_des_performances = df.performance.values\n",
    "gains = [0]\n",
    "for indice, performance in enumerate(liste_des_performances):\n",
    "    if indice>0:\n",
    "        previous_value = liste_des_performances[indice-1]\n",
    "        current_value  = liste_des_performances[indice]\n",
    "        gain = (current_value - previous_value) / previous_value\n",
    "        gains.append(round(gain*100, 2))\n",
    "df[\"gains\"] = gains"
   ]
  },
  {
   "cell_type": "code",
   "execution_count": 58,
   "metadata": {},
   "outputs": [],
   "source": [
    "#"
   ]
  },
  {
   "cell_type": "code",
   "execution_count": 59,
   "metadata": {},
   "outputs": [
    {
     "data": {
      "text/html": [
       "<div>\n",
       "<style scoped>\n",
       "    .dataframe tbody tr th:only-of-type {\n",
       "        vertical-align: middle;\n",
       "    }\n",
       "\n",
       "    .dataframe tbody tr th {\n",
       "        vertical-align: top;\n",
       "    }\n",
       "\n",
       "    .dataframe thead th {\n",
       "        text-align: right;\n",
       "    }\n",
       "</style>\n",
       "<table border=\"1\" class=\"dataframe\">\n",
       "  <thead>\n",
       "    <tr style=\"text-align: right;\">\n",
       "      <th></th>\n",
       "      <th>performance</th>\n",
       "      <th>gains</th>\n",
       "    </tr>\n",
       "  </thead>\n",
       "  <tbody>\n",
       "    <tr>\n",
       "      <th>Bayesian ARD regression.</th>\n",
       "      <td>0.630428</td>\n",
       "      <td>0.00</td>\n",
       "    </tr>\n",
       "    <tr>\n",
       "      <th>Bayesian ridge regression</th>\n",
       "      <td>0.633522</td>\n",
       "      <td>0.49</td>\n",
       "    </tr>\n",
       "    <tr>\n",
       "      <th>Linear regression with co</th>\n",
       "      <td>0.518773</td>\n",
       "      <td>-18.11</td>\n",
       "    </tr>\n",
       "    <tr>\n",
       "      <th>Elastic Net model with it</th>\n",
       "      <td>0.632748</td>\n",
       "      <td>21.97</td>\n",
       "    </tr>\n",
       "    <tr>\n",
       "      <th>Generalized Linear Model</th>\n",
       "      <td>0.500170</td>\n",
       "      <td>-20.95</td>\n",
       "    </tr>\n",
       "    <tr>\n",
       "      <th>Linear regression model t</th>\n",
       "      <td>0.596855</td>\n",
       "      <td>19.33</td>\n",
       "    </tr>\n",
       "    <tr>\n",
       "      <th>Least Angle Regression mo</th>\n",
       "      <td>0.636509</td>\n",
       "      <td>6.64</td>\n",
       "    </tr>\n",
       "    <tr>\n",
       "      <th>Cross-validated Least Ang</th>\n",
       "      <td>0.589083</td>\n",
       "      <td>-7.45</td>\n",
       "    </tr>\n",
       "    <tr>\n",
       "      <th>Linear Model trained with</th>\n",
       "      <td>0.575469</td>\n",
       "      <td>-2.31</td>\n",
       "    </tr>\n",
       "    <tr>\n",
       "      <th>Lasso linear model with i</th>\n",
       "      <td>0.631632</td>\n",
       "      <td>9.76</td>\n",
       "    </tr>\n",
       "    <tr>\n",
       "      <th>Cross-validated Lasso, us</th>\n",
       "      <td>0.631721</td>\n",
       "      <td>0.01</td>\n",
       "    </tr>\n",
       "    <tr>\n",
       "      <th>Lasso model fit with Lars</th>\n",
       "      <td>0.596670</td>\n",
       "      <td>-5.55</td>\n",
       "    </tr>\n",
       "    <tr>\n",
       "      <th>Ordinary least squar</th>\n",
       "      <td>0.636509</td>\n",
       "      <td>6.68</td>\n",
       "    </tr>\n",
       "    <tr>\n",
       "      <th>Orthogonal Matching Pursu</th>\n",
       "      <td>0.501416</td>\n",
       "      <td>-21.22</td>\n",
       "    </tr>\n",
       "    <tr>\n",
       "      <th>Cross-validated Orthogona</th>\n",
       "      <td>0.577755</td>\n",
       "      <td>15.22</td>\n",
       "    </tr>\n",
       "    <tr>\n",
       "      <th>Passive Aggressive Regres</th>\n",
       "      <td>0.386479</td>\n",
       "      <td>-33.11</td>\n",
       "    </tr>\n",
       "    <tr>\n",
       "      <th>RANSAC (RANdom SAmple Con</th>\n",
       "      <td>0.495153</td>\n",
       "      <td>28.12</td>\n",
       "    </tr>\n",
       "    <tr>\n",
       "      <th>Linear least squares with</th>\n",
       "      <td>0.635996</td>\n",
       "      <td>28.44</td>\n",
       "    </tr>\n",
       "    <tr>\n",
       "      <th>Ridge regression with bui</th>\n",
       "      <td>0.630763</td>\n",
       "      <td>-0.82</td>\n",
       "    </tr>\n",
       "    <tr>\n",
       "      <th>Linear model fitted by mi</th>\n",
       "      <td>0.629136</td>\n",
       "      <td>-0.26</td>\n",
       "    </tr>\n",
       "    <tr>\n",
       "      <th>Theil-Sen Estimator</th>\n",
       "      <td>0.413742</td>\n",
       "      <td>-34.24</td>\n",
       "    </tr>\n",
       "    <tr>\n",
       "      <th>Linear Support Vector Reg</th>\n",
       "      <td>0.594790</td>\n",
       "      <td>43.76</td>\n",
       "    </tr>\n",
       "    <tr>\n",
       "      <th>Nu Support Vector Regress</th>\n",
       "      <td>0.492830</td>\n",
       "      <td>-17.14</td>\n",
       "    </tr>\n",
       "    <tr>\n",
       "      <th>Epsilon-Support Vector Re</th>\n",
       "      <td>0.501732</td>\n",
       "      <td>1.81</td>\n",
       "    </tr>\n",
       "  </tbody>\n",
       "</table>\n",
       "</div>"
      ],
      "text/plain": [
       "                           performance  gains\n",
       "Bayesian ARD regression.      0.630428   0.00\n",
       "Bayesian ridge regression     0.633522   0.49\n",
       "Linear regression with co     0.518773 -18.11\n",
       "Elastic Net model with it     0.632748  21.97\n",
       "Generalized Linear Model      0.500170 -20.95\n",
       "Linear regression model t     0.596855  19.33\n",
       "Least Angle Regression mo     0.636509   6.64\n",
       "Cross-validated Least Ang     0.589083  -7.45\n",
       "Linear Model trained with     0.575469  -2.31\n",
       "Lasso linear model with i     0.631632   9.76\n",
       "Cross-validated Lasso, us     0.631721   0.01\n",
       "Lasso model fit with Lars     0.596670  -5.55\n",
       "Ordinary least squar          0.636509   6.68\n",
       "Orthogonal Matching Pursu     0.501416 -21.22\n",
       "Cross-validated Orthogona     0.577755  15.22\n",
       "Passive Aggressive Regres     0.386479 -33.11\n",
       "RANSAC (RANdom SAmple Con     0.495153  28.12\n",
       "Linear least squares with     0.635996  28.44\n",
       "Ridge regression with bui     0.630763  -0.82\n",
       "Linear model fitted by mi     0.629136  -0.26\n",
       "Theil-Sen Estimator           0.413742 -34.24\n",
       "Linear Support Vector Reg     0.594790  43.76\n",
       "Nu Support Vector Regress     0.492830 -17.14\n",
       "Epsilon-Support Vector Re     0.501732   1.81"
      ]
     },
     "execution_count": 59,
     "metadata": {},
     "output_type": "execute_result"
    }
   ],
   "source": [
    "df"
   ]
  },
  {
   "cell_type": "markdown",
   "metadata": {},
   "source": [
    "## Tracer les performances par algo"
   ]
  },
  {
   "cell_type": "code",
   "execution_count": 60,
   "metadata": {},
   "outputs": [],
   "source": [
    "%matplotlib inline\n",
    "import matplotlib.pyplot as plt\n",
    "import matplotlib.ticker as ticker"
   ]
  },
  {
   "cell_type": "code",
   "execution_count": 61,
   "metadata": {},
   "outputs": [],
   "source": [
    "df = df.drop(\"gains\", axis=1)"
   ]
  },
  {
   "cell_type": "code",
   "execution_count": 62,
   "metadata": {},
   "outputs": [
    {
     "name": "stderr",
     "output_type": "stream",
     "text": [
      "/Applications/anaconda3/envs/python38/lib/python3.8/site-packages/pandas/plotting/_matplotlib/core.py:1192: UserWarning: FixedFormatter should only be used together with FixedLocator\n",
      "  ax.set_xticklabels(xticklabels)\n"
     ]
    },
    {
     "data": {
      "image/png": "[encoded data removed]",
      "text/plain": [
       "<Figure size 432x288 with 1 Axes>"
      ]
     },
     "metadata": {
      "needs_background": "light"
     },
     "output_type": "display_data"
    }
   ],
   "source": [
    "df = df.sort_values(col_name)\n",
    "ax = df.plot(rot=45, x_compat=True)"
   ]
  },
  {
   "cell_type": "markdown",
   "metadata": {},
   "source": [
    "### Augmentation du nombre de légend"
   ]
  },
  {
   "cell_type": "code",
   "execution_count": 63,
   "metadata": {},
   "outputs": [
    {
     "name": "stderr",
     "output_type": "stream",
     "text": [
      "/Applications/anaconda3/envs/python38/lib/python3.8/site-packages/pandas/plotting/_matplotlib/core.py:1192: UserWarning: FixedFormatter should only be used together with FixedLocator\n",
      "  ax.set_xticklabels(xticklabels)\n"
     ]
    },
    {
     "ename": "ValueError",
     "evalue": "The number of FixedLocator locations (7), usually from a call to set_ticks, does not match the number of ticklabels (24).",
     "output_type": "error",
     "traceback": [
      "\u001b[0;31m---------------------------------------------------------------------------\u001b[0m",
      "\u001b[0;31mValueError\u001b[0m                                Traceback (most recent call last)",
      "\u001b[0;32m<ipython-input-63-116b423e1dce>\u001b[0m in \u001b[0;36m<module>\u001b[0;34m\u001b[0m\n\u001b[1;32m      1\u001b[0m \u001b[0mdf\u001b[0m \u001b[0;34m=\u001b[0m \u001b[0mdf\u001b[0m\u001b[0;34m.\u001b[0m\u001b[0msort_values\u001b[0m\u001b[0;34m(\u001b[0m\u001b[0mcol_name\u001b[0m\u001b[0;34m)\u001b[0m\u001b[0;34m\u001b[0m\u001b[0;34m\u001b[0m\u001b[0m\n\u001b[1;32m      2\u001b[0m \u001b[0max\u001b[0m \u001b[0;34m=\u001b[0m \u001b[0mdf\u001b[0m\u001b[0;34m.\u001b[0m\u001b[0mplot\u001b[0m\u001b[0;34m(\u001b[0m\u001b[0mrot\u001b[0m\u001b[0;34m=\u001b[0m\u001b[0;36m90\u001b[0m\u001b[0;34m,\u001b[0m \u001b[0mx_compat\u001b[0m\u001b[0;34m=\u001b[0m\u001b[0;32mTrue\u001b[0m\u001b[0;34m)\u001b[0m\u001b[0;34m\u001b[0m\u001b[0;34m\u001b[0m\u001b[0m\n\u001b[0;32m----> 3\u001b[0;31m \u001b[0max\u001b[0m\u001b[0;34m.\u001b[0m\u001b[0mxaxis\u001b[0m\u001b[0;34m.\u001b[0m\u001b[0mset_ticklabels\u001b[0m\u001b[0;34m(\u001b[0m\u001b[0mdf\u001b[0m\u001b[0;34m.\u001b[0m\u001b[0mindex\u001b[0m\u001b[0;34m)\u001b[0m\u001b[0;34m\u001b[0m\u001b[0;34m\u001b[0m\u001b[0m\n\u001b[0m\u001b[1;32m      4\u001b[0m \u001b[0max\u001b[0m\u001b[0;34m.\u001b[0m\u001b[0mxaxis\u001b[0m\u001b[0;34m.\u001b[0m\u001b[0mset_major_locator\u001b[0m\u001b[0;34m(\u001b[0m\u001b[0mticker\u001b[0m\u001b[0;34m.\u001b[0m\u001b[0mMultipleLocator\u001b[0m\u001b[0;34m(\u001b[0m\u001b[0;36m1\u001b[0m\u001b[0;34m)\u001b[0m\u001b[0;34m)\u001b[0m\u001b[0;34m\u001b[0m\u001b[0;34m\u001b[0m\u001b[0m\n",
      "\u001b[0;32m/Applications/anaconda3/envs/python38/lib/python3.8/site-packages/matplotlib/axis.py\u001b[0m in \u001b[0;36mset_ticklabels\u001b[0;34m(self, ticklabels, minor, **kwargs)\u001b[0m\n\u001b[1;32m   1712\u001b[0m             \u001b[0;31m# remove all tick labels, so only error for > 0 ticklabels\u001b[0m\u001b[0;34m\u001b[0m\u001b[0;34m\u001b[0m\u001b[0;34m\u001b[0m\u001b[0m\n\u001b[1;32m   1713\u001b[0m             \u001b[0;32mif\u001b[0m \u001b[0mlen\u001b[0m\u001b[0;34m(\u001b[0m\u001b[0mlocator\u001b[0m\u001b[0;34m.\u001b[0m\u001b[0mlocs\u001b[0m\u001b[0;34m)\u001b[0m \u001b[0;34m!=\u001b[0m \u001b[0mlen\u001b[0m\u001b[0;34m(\u001b[0m\u001b[0mticklabels\u001b[0m\u001b[0;34m)\u001b[0m \u001b[0;32mand\u001b[0m \u001b[0mlen\u001b[0m\u001b[0;34m(\u001b[0m\u001b[0mticklabels\u001b[0m\u001b[0;34m)\u001b[0m \u001b[0;34m!=\u001b[0m \u001b[0;36m0\u001b[0m\u001b[0;34m:\u001b[0m\u001b[0;34m\u001b[0m\u001b[0;34m\u001b[0m\u001b[0m\n\u001b[0;32m-> 1714\u001b[0;31m                 raise ValueError(\n\u001b[0m\u001b[1;32m   1715\u001b[0m                     \u001b[0;34m\"The number of FixedLocator locations\"\u001b[0m\u001b[0;34m\u001b[0m\u001b[0;34m\u001b[0m\u001b[0m\n\u001b[1;32m   1716\u001b[0m                     \u001b[0;34mf\" ({len(locator.locs)}), usually from a call to\"\u001b[0m\u001b[0;34m\u001b[0m\u001b[0;34m\u001b[0m\u001b[0m\n",
      "\u001b[0;31mValueError\u001b[0m: The number of FixedLocator locations (7), usually from a call to set_ticks, does not match the number of ticklabels (24)."
     ]
    },
    {
     "data": {
      "image/png": "[encoded data removed]",
      "text/plain": [
       "<Figure size 432x288 with 1 Axes>"
      ]
     },
     "metadata": {
      "needs_background": "light"
     },
     "output_type": "display_data"
    }
   ],
   "source": [
    "df = df.sort_values(col_name)\n",
    "ax = df.plot(rot=90, x_compat=True)\n",
    "ax.xaxis.set_ticklabels(df.index)\n",
    "ax.xaxis.set_major_locator(ticker.MultipleLocator(1))"
   ]
  },
  {
   "cell_type": "markdown",
   "metadata": {},
   "source": [
    "### Rotation des infos sur x, et image plus large"
   ]
  },
  {
   "cell_type": "code",
   "execution_count": 64,
   "metadata": {},
   "outputs": [
    {
     "name": "stderr",
     "output_type": "stream",
     "text": [
      "<ipython-input-64-fd062812002c>:4: UserWarning: FixedFormatter should only be used together with FixedLocator\n",
      "  axes.xaxis.set_ticklabels(df.index)\n",
      "/Applications/anaconda3/envs/python38/lib/python3.8/site-packages/pandas/plotting/_matplotlib/core.py:1192: UserWarning: FixedFormatter should only be used together with FixedLocator\n",
      "  ax.set_xticklabels(xticklabels)\n"
     ]
    },
    {
     "data": {
      "text/plain": [
       "<AxesSubplot:>"
      ]
     },
     "execution_count": 64,
     "metadata": {},
     "output_type": "execute_result"
    },
    {
     "data": {
      "image/png": "[encoded data removed]",
      "text/plain": [
       "<Figure size 648x216 with 1 Axes>"
      ]
     },
     "metadata": {
      "needs_background": "light"
     },
     "output_type": "display_data"
    }
   ],
   "source": [
    "fig , axes = plt.subplots(1,1)\n",
    "fig.set_size_inches(9,3)\n",
    "df = df.sort_values(col_name )\n",
    "axes.xaxis.set_ticklabels(df.index)\n",
    "axes.xaxis.set_major_locator(ticker.MultipleLocator(1))\n",
    "df.plot(rot=45, ax=axes)\n"
   ]
  },
  {
   "cell_type": "markdown",
   "metadata": {},
   "source": [
    "### affichage en barre"
   ]
  },
  {
   "cell_type": "code",
   "execution_count": 65,
   "metadata": {},
   "outputs": [
    {
     "name": "stderr",
     "output_type": "stream",
     "text": [
      "<ipython-input-65-28c9d528bd67>:4: UserWarning: FixedFormatter should only be used together with FixedLocator\n",
      "  axes.xaxis.set_ticklabels(df.index)\n"
     ]
    },
    {
     "data": {
      "text/plain": [
       "<AxesSubplot:>"
      ]
     },
     "execution_count": 65,
     "metadata": {},
     "output_type": "execute_result"
    },
    {
     "data": {
      "image/png": "[encoded data removed]",
      "text/plain": [
       "<Figure size 648x216 with 1 Axes>"
      ]
     },
     "metadata": {
      "needs_background": "light"
     },
     "output_type": "display_data"
    }
   ],
   "source": [
    "fig , axes = plt.subplots(1,1)\n",
    "fig.set_size_inches(9,3)\n",
    "df = df.sort_values(col_name )\n",
    "axes.xaxis.set_ticklabels(df.index)\n",
    "axes.xaxis.set_major_locator(ticker.MultipleLocator(1))\n",
    "df.plot(kind='bar', rot=90, ax=axes)"
   ]
  },
  {
   "cell_type": "markdown",
   "metadata": {},
   "source": [
    "## on rajoute la perforamnce dans les labels"
   ]
  },
  {
   "cell_type": "code",
   "execution_count": 66,
   "metadata": {
    "scrolled": true
   },
   "outputs": [
    {
     "data": {
      "image/png": "[encoded data removed]",
      "text/plain": [
       "<Figure size 1080x576 with 1 Axes>"
      ]
     },
     "metadata": {
      "needs_background": "light"
     },
     "output_type": "display_data"
    }
   ],
   "source": [
    "new_labels = []\n",
    "for i, index in enumerate(df.index):\n",
    "    new_label = \"%s (%.2f)\"%(index,df.performance[i])\n",
    "    new_labels.append(new_label.replace(\"\\n\", \" \"))\n",
    "    \n",
    "fig , axes = plt.subplots(1,1)\n",
    "df.index = new_labels\n",
    "fig.set_size_inches(15,8)\n",
    "fig.subplots_adjust(left=0.65)\n",
    "df.sort_values(col_name).plot(kind='barh', ax=axes)\n",
    "axes.xaxis.set_major_locator(ticker.MultipleLocator(1))\n",
    "\n",
    "pass"
   ]
  },
  {
   "cell_type": "markdown",
   "metadata": {},
   "source": [
    "# 7) which scoring function ?"
   ]
  },
  {
   "cell_type": "markdown",
   "metadata": {},
   "source": [
    "## on récupère les fonctions de score"
   ]
  },
  {
   "cell_type": "code",
   "execution_count": 70,
   "metadata": {},
   "outputs": [],
   "source": [
    "def get_sklearn_score_functions(verbose = False):\n",
    "    \"\"\"\n",
    "    Explore all submodule of sklearn and fetch functions named as 'score'.\n",
    "    \n",
    "    Parameters :\n",
    "        debug = print or not stuff on console\n",
    "    Return :\n",
    "        dict : { module : [ score_functions] }\n",
    "    \"\"\"\n",
    "    from collections import defaultdict\n",
    "    import importlib\n",
    "    import sklearn\n",
    "    algos = defaultdict(list)\n",
    "    if verbose : print (dir(sklearn))\n",
    "    for nom_module in dir(sklearn):    \n",
    "        if verbose : print (nom_module)\n",
    "        try:\n",
    "            to_import = \"sklearn.%s\"%nom_module\n",
    "            module    = importlib.import_module(to_import)\n",
    "            for nom_fonction in dir(module):\n",
    "                fonction = getattr(module, nom_fonction)\n",
    "                if \"score\" in nom_fonction:\n",
    "                    algos[nom_module].append(fonction)                                            \n",
    "        except Exception as e:\n",
    "            if verbose : print (e)\n",
    "        if verbose: print (\"=\"*30)\n",
    "    return algos"
   ]
  },
  {
   "cell_type": "code",
   "execution_count": 71,
   "metadata": {},
   "outputs": [],
   "source": [
    "scoring_modules = get_sklearn_score_functions(False)"
   ]
  },
  {
   "cell_type": "code",
   "execution_count": 72,
   "metadata": {},
   "outputs": [
    {
     "data": {
      "text/plain": [
       "dict_keys(['metrics', 'model_selection'])"
      ]
     },
     "execution_count": 72,
     "metadata": {},
     "output_type": "execute_result"
    }
   ],
   "source": [
    "scoring_modules.keys()"
   ]
  },
  {
   "cell_type": "markdown",
   "metadata": {},
   "source": [
    "## on s'intéresse aux métriques"
   ]
  },
  {
   "cell_type": "code",
   "execution_count": 73,
   "metadata": {},
   "outputs": [
    {
     "data": {
      "text/plain": [
       "[<module 'sklearn.metrics._scorer' from '/Applications/anaconda3/envs/python38/lib/python3.8/site-packages/sklearn/metrics/_scorer.py'>,\n",
       " <function sklearn.metrics._classification.accuracy_score(y_true, y_pred, *, normalize=True, sample_weight=None)>,\n",
       " <function sklearn.metrics.cluster._supervised.adjusted_mutual_info_score(labels_true, labels_pred, *, average_method='arithmetic')>,\n",
       " <function sklearn.metrics.cluster._supervised.adjusted_rand_score(labels_true, labels_pred)>,\n",
       " <function sklearn.metrics._ranking.average_precision_score(y_true, y_score, *, average='macro', pos_label=1, sample_weight=None)>,\n",
       " <function sklearn.metrics._classification.balanced_accuracy_score(y_true, y_pred, *, sample_weight=None, adjusted=False)>,\n",
       " <function sklearn.metrics._classification.brier_score_loss(y_true, y_prob, *, sample_weight=None, pos_label=None)>,\n",
       " <function sklearn.metrics.cluster._unsupervised.calinski_harabasz_score(X, labels)>,\n",
       " <function sklearn.metrics._classification.cohen_kappa_score(y1, y2, *, labels=None, weights=None, sample_weight=None)>,\n",
       " <function sklearn.metrics.cluster._supervised.completeness_score(labels_true, labels_pred)>,\n",
       " <function sklearn.metrics.cluster._bicluster.consensus_score(a, b, *, similarity='jaccard')>,\n",
       " <function sklearn.metrics.cluster._unsupervised.davies_bouldin_score(X, labels)>,\n",
       " <function sklearn.metrics._ranking.dcg_score(y_true, y_score, *, k=None, log_base=2, sample_weight=None, ignore_ties=False)>,\n",
       " <function sklearn.metrics._regression.explained_variance_score(y_true, y_pred, *, sample_weight=None, multioutput='uniform_average')>,\n",
       " <function sklearn.metrics._classification.f1_score(y_true, y_pred, *, labels=None, pos_label=1, average='binary', sample_weight=None, zero_division='warn')>,\n",
       " <function sklearn.metrics._classification.fbeta_score(y_true, y_pred, *, beta, labels=None, pos_label=1, average='binary', sample_weight=None, zero_division='warn')>,\n",
       " <function sklearn.metrics.cluster._supervised.fowlkes_mallows_score(labels_true, labels_pred, *, sparse=False)>,\n",
       " <function sklearn.metrics._scorer.get_scorer(scoring)>,\n",
       " <function sklearn.metrics.cluster._supervised.homogeneity_score(labels_true, labels_pred)>,\n",
       " <function sklearn.metrics._classification.jaccard_score(y_true, y_pred, *, labels=None, pos_label=1, average='binary', sample_weight=None)>,\n",
       " <function sklearn.metrics._ranking.label_ranking_average_precision_score(y_true, y_score, *, sample_weight=None)>,\n",
       " <function sklearn.metrics._scorer.make_scorer(score_func, *, greater_is_better=True, needs_proba=False, needs_threshold=False, **kwargs)>,\n",
       " <function sklearn.metrics.cluster._supervised.mutual_info_score(labels_true, labels_pred, *, contingency=None)>,\n",
       " <function sklearn.metrics._ranking.ndcg_score(y_true, y_score, *, k=None, sample_weight=None, ignore_ties=False)>,\n",
       " <function sklearn.metrics.cluster._supervised.normalized_mutual_info_score(labels_true, labels_pred, *, average_method='arithmetic')>,\n",
       " <function sklearn.metrics._classification.precision_recall_fscore_support(y_true, y_pred, *, beta=1.0, labels=None, pos_label=1, average=None, warn_for=('precision', 'recall', 'f-score'), sample_weight=None, zero_division='warn')>,\n",
       " <function sklearn.metrics._classification.precision_score(y_true, y_pred, *, labels=None, pos_label=1, average='binary', sample_weight=None, zero_division='warn')>,\n",
       " <function sklearn.metrics._regression.r2_score(y_true, y_pred, *, sample_weight=None, multioutput='uniform_average')>,\n",
       " <function sklearn.metrics._classification.recall_score(y_true, y_pred, *, labels=None, pos_label=1, average='binary', sample_weight=None, zero_division='warn')>,\n",
       " <function sklearn.metrics._ranking.roc_auc_score(y_true, y_score, *, average='macro', sample_weight=None, max_fpr=None, multi_class='raise', labels=None)>,\n",
       " <function sklearn.metrics.cluster._unsupervised.silhouette_score(X, labels, *, metric='euclidean', sample_size=None, random_state=None, **kwds)>,\n",
       " <function sklearn.metrics.cluster._supervised.v_measure_score(labels_true, labels_pred, *, beta=1.0)>]"
      ]
     },
     "execution_count": 73,
     "metadata": {},
     "output_type": "execute_result"
    }
   ],
   "source": [
    "scoring_modules[\"metrics\"]"
   ]
  },
  {
   "cell_type": "markdown",
   "metadata": {},
   "source": [
    "# 8) tester les métriques sur un algo"
   ]
  },
  {
   "cell_type": "code",
   "execution_count": 74,
   "metadata": {},
   "outputs": [],
   "source": [
    "from sklearn.ensemble import BaggingRegressor"
   ]
  },
  {
   "cell_type": "markdown",
   "metadata": {},
   "source": [
    "# 8.1) l'algo a des performances variables"
   ]
  },
  {
   "cell_type": "code",
   "execution_count": 76,
   "metadata": {},
   "outputs": [
    {
     "name": "stdout",
     "output_type": "stream",
     "text": [
      "0 0.8836933760766927\n",
      "1 0.8277280070040662\n",
      "2 0.8419316614580751\n",
      "3 0.8270475928892489\n",
      "4 0.8381554569681475\n",
      "5 0.820113357040309\n",
      "6 0.7669213781333432\n",
      "7 0.8199964130332235\n",
      "8 0.8285092089043162\n",
      "9 0.7783609426598561\n"
     ]
    }
   ],
   "source": [
    "performances = {}\n",
    "for i in range(10):\n",
    "    algorithme = BaggingRegressor()\n",
    "    algorithme.fit(X_train, y_train)\n",
    "    performance = algorithme.score(X_test, y_test)\n",
    "    print (i, performance)\n",
    "    performances[i] = [performance]"
   ]
  },
  {
   "cell_type": "code",
   "execution_count": 77,
   "metadata": {},
   "outputs": [
    {
     "data": {
      "text/plain": [
       "<AxesSubplot:>"
      ]
     },
     "execution_count": 77,
     "metadata": {},
     "output_type": "execute_result"
    },
    {
     "data": {
      "image/png": "[encoded data removed]",
      "text/plain": [
       "<Figure size 432x288 with 1 Axes>"
      ]
     },
     "metadata": {
      "needs_background": "light"
     },
     "output_type": "display_data"
    }
   ],
   "source": [
    "pd.DataFrame.from_dict(performances).T.plot()"
   ]
  },
  {
   "cell_type": "markdown",
   "metadata": {},
   "source": [
    "## On peut calculer diverses métriques"
   ]
  },
  {
   "cell_type": "code",
   "execution_count": 78,
   "metadata": {},
   "outputs": [],
   "source": [
    "y_pred = algorithme.predict(X_test)"
   ]
  },
  {
   "cell_type": "code",
   "execution_count": 80,
   "metadata": {},
   "outputs": [
    {
     "name": "stdout",
     "output_type": "stream",
     "text": [
      "adjusted_mutual_info_score  =>  -0.0011038564614414543\n",
      "adjusted_rand_score  =>  -0.0006888288518613945\n",
      "completeness_score  =>  0.8969053615312395\n",
      "explained_variance_score  =>  0.7857499533139587\n",
      "fowlkes_mallows_score  =>  0.0\n",
      "homogeneity_score  =>  0.9909664602022435\n",
      "mutual_info_score  =>  4.5531292988693695\n",
      "normalized_mutual_info_score  =>  0.941592666431038\n",
      "r2_score  =>  0.7783609426598561\n",
      "v_measure_score  =>  0.9415926664310381\n"
     ]
    },
    {
     "name": "stderr",
     "output_type": "stream",
     "text": [
      "/Applications/anaconda3/envs/python38/lib/python3.8/site-packages/sklearn/utils/validation.py:67: FutureWarning: Pass greater_is_better=[31.9  16.93 16.36 22.9  35.39 19.14 32.59 21.14 17.84 33.03 23.62 37.19\n",
      " 41.06 19.62 15.84 30.11 20.72 42.91 24.08 12.19 10.65  8.99 33.31 20.79\n",
      " 20.85 33.55 16.6  27.01 18.92 31.71 14.23 12.09 22.31 20.14 20.23 31.47\n",
      " 23.91 20.67 17.27 33.1  17.58 22.11 17.99 20.33 20.27 45.71 23.04 12.72\n",
      " 27.41 24.31 27.87 11.53 24.36 24.41 38.43 16.13 28.69 37.04 23.58 21.87\n",
      " 22.47 42.81 23.85 22.95 34.76 20.6  16.85 20.12 15.12 18.61 23.73 19.71\n",
      " 44.8  23.21 28.25 15.06 20.3  42.5  22.75 23.15 16.97 15.23 23.53 21.26\n",
      " 19.41 10.83 21.54 21.57 40.97 24.55 29.24 14.94 23.78 15.74 17.83 23.64\n",
      " 44.48 21.69 22.58 20.34 15.41 23.17 24.63 17.33 20.31 20.82 13.41 14.76\n",
      " 17.01 23.57 17.68 20.11 18.39 21.23 19.75 17.65 13.9  34.48 31.9  27.06\n",
      " 19.39 12.03 24.02 17.47 18.86  8.82 19.09 17.63 22.2  26.01 21.09 17.93\n",
      " 21.1  12.68 19.64 17.82  9.83 23.59 20.23 30.03 25.87 29.87 20.34 13.21\n",
      " 20.81  9.37 15.05 15.41 26.27 23.58 18.53 21.54 21.8  24.69 22.87 36.4\n",
      " 21.   22.31 16.35 47.46 23.   23.56 26.84 18.85 10.57 16.93 20.44] as keyword args. From version 0.25 passing these as positional arguments will result in an error\n",
      "  warnings.warn(\"Pass {} as keyword args. From version 0.25 \"\n"
     ]
    }
   ],
   "source": [
    "score_par_metric = {}\n",
    "for scoring_function in scoring_modules[\"metrics\"]:\n",
    "    try:\n",
    "        info         = str(scoring_function)\n",
    "        nom_metrique = info[info.find(\" \"):info.find(\" at \")].strip()\n",
    "        score_algo   = scoring_function(y_test, y_pred)\n",
    "        score_par_metric[nom_metrique] =  [score_algo]\n",
    "        print (nom_metrique, \" => \", score_algo)\n",
    "    except:\n",
    "        pass"
   ]
  },
  {
   "cell_type": "markdown",
   "metadata": {},
   "source": [
    "## on les manipule dans une dataframe pandas"
   ]
  },
  {
   "cell_type": "code",
   "execution_count": 81,
   "metadata": {},
   "outputs": [],
   "source": [
    "df_metriques = pd.DataFrame.from_dict(score_par_metric).T"
   ]
  },
  {
   "cell_type": "code",
   "execution_count": 82,
   "metadata": {},
   "outputs": [
    {
     "data": {
      "text/html": [
       "<div>\n",
       "<style scoped>\n",
       "    .dataframe tbody tr th:only-of-type {\n",
       "        vertical-align: middle;\n",
       "    }\n",
       "\n",
       "    .dataframe tbody tr th {\n",
       "        vertical-align: top;\n",
       "    }\n",
       "\n",
       "    .dataframe thead th {\n",
       "        text-align: right;\n",
       "    }\n",
       "</style>\n",
       "<table border=\"1\" class=\"dataframe\">\n",
       "  <thead>\n",
       "    <tr style=\"text-align: right;\">\n",
       "      <th></th>\n",
       "      <th>score</th>\n",
       "    </tr>\n",
       "  </thead>\n",
       "  <tbody>\n",
       "    <tr>\n",
       "      <th>adjusted_mutual_info_score</th>\n",
       "      <td>-0.001104</td>\n",
       "    </tr>\n",
       "    <tr>\n",
       "      <th>adjusted_rand_score</th>\n",
       "      <td>-0.000689</td>\n",
       "    </tr>\n",
       "    <tr>\n",
       "      <th>fowlkes_mallows_score</th>\n",
       "      <td>0.000000</td>\n",
       "    </tr>\n",
       "    <tr>\n",
       "      <th>r2_score</th>\n",
       "      <td>0.778361</td>\n",
       "    </tr>\n",
       "    <tr>\n",
       "      <th>explained_variance_score</th>\n",
       "      <td>0.785750</td>\n",
       "    </tr>\n",
       "    <tr>\n",
       "      <th>completeness_score</th>\n",
       "      <td>0.896905</td>\n",
       "    </tr>\n",
       "    <tr>\n",
       "      <th>normalized_mutual_info_score</th>\n",
       "      <td>0.941593</td>\n",
       "    </tr>\n",
       "    <tr>\n",
       "      <th>v_measure_score</th>\n",
       "      <td>0.941593</td>\n",
       "    </tr>\n",
       "    <tr>\n",
       "      <th>homogeneity_score</th>\n",
       "      <td>0.990966</td>\n",
       "    </tr>\n",
       "    <tr>\n",
       "      <th>mutual_info_score</th>\n",
       "      <td>4.553129</td>\n",
       "    </tr>\n",
       "  </tbody>\n",
       "</table>\n",
       "</div>"
      ],
      "text/plain": [
       "                                 score\n",
       "adjusted_mutual_info_score   -0.001104\n",
       "adjusted_rand_score          -0.000689\n",
       "fowlkes_mallows_score         0.000000\n",
       "r2_score                      0.778361\n",
       "explained_variance_score      0.785750\n",
       "completeness_score            0.896905\n",
       "normalized_mutual_info_score  0.941593\n",
       "v_measure_score               0.941593\n",
       "homogeneity_score             0.990966\n",
       "mutual_info_score             4.553129"
      ]
     },
     "execution_count": 82,
     "metadata": {},
     "output_type": "execute_result"
    }
   ],
   "source": [
    "colonne_de_score = \"score\"\n",
    "df_metriques.columns = [colonne_de_score]\n",
    "df_metriques.sort_values(colonne_de_score)"
   ]
  },
  {
   "cell_type": "markdown",
   "metadata": {},
   "source": [
    "## on peut les dessiner"
   ]
  },
  {
   "cell_type": "code",
   "execution_count": 83,
   "metadata": {},
   "outputs": [
    {
     "data": {
      "text/plain": [
       "<AxesSubplot:>"
      ]
     },
     "execution_count": 83,
     "metadata": {},
     "output_type": "execute_result"
    },
    {
     "data": {
      "image/png": "[encoded data removed]",
      "text/plain": [
       "<Figure size 432x288 with 1 Axes>"
      ]
     },
     "metadata": {
      "needs_background": "light"
     },
     "output_type": "display_data"
    }
   ],
   "source": [
    "df_metriques.sort_values(by=colonne_de_score).plot(kind=\"barh\")"
   ]
  },
  {
   "cell_type": "markdown",
   "metadata": {},
   "source": [
    "# on s'intéresse en général au r2 et à la variance expliquée"
   ]
  }
 ],
 "metadata": {
  "kernelspec": {
   "display_name": "Python 3",
   "language": "python",
   "name": "python3"
  },
  "language_info": {
   "codemirror_mode": {
    "name": "ipython",
    "version": 3
   },
   "file_extension": ".py",
   "mimetype": "text/x-python",
   "name": "python",
   "nbconvert_exporter": "python",
   "pygments_lexer": "ipython3",
   "version": "3.8.3"
  }
 },
 "nbformat": 4,
 "nbformat_minor": 4
}
